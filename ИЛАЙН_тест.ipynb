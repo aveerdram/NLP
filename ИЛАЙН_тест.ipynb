{
  "nbformat": 4,
  "nbformat_minor": 0,
  "metadata": {
    "colab": {
      "provenance": [],
      "authorship_tag": "ABX9TyO5Ks3HRht0nVP5ccQ2O5/Q",
      "include_colab_link": true
    },
    "kernelspec": {
      "name": "python3",
      "display_name": "Python 3"
    },
    "language_info": {
      "name": "python"
    }
  },
  "cells": [
    {
      "cell_type": "markdown",
      "metadata": {
        "id": "view-in-github",
        "colab_type": "text"
      },
      "source": [
        "<a href=\"https://colab.research.google.com/github/aveerdram/NLP/blob/main/%D0%98%D0%9B%D0%90%D0%99%D0%9D_%D1%82%D0%B5%D1%81%D1%82.ipynb\" target=\"_parent\"><img src=\"https://colab.research.google.com/assets/colab-badge.svg\" alt=\"Open In Colab\"/></a>"
      ]
    },
    {
      "cell_type": "markdown",
      "source": [
        "## Задание"
      ],
      "metadata": {
        "id": "MYqd5RvWj1gk"
      }
    },
    {
      "cell_type": "markdown",
      "source": [
        "Создайте модель, обрабатывающую фрагмент текста и определяющую\n",
        "какой вид продукции в нём содержится.\n",
        "\n",
        "Выполненное задание пришлите ссылкой на Google Collab.\n",
        "Датасет поделите на 80% / 20% - обучающая/тестовая выборки.\n",
        "\n",
        "Используйте библиотеку PyTorch\n",
        "\n",
        "Датасет: https://axe.inline-ltd.ru/data/meatinfo.csv\n",
        "\n",
        "Виды продукции (брать только виды продукции, для которых в датасете есть не менее 500 примеров):\n",
        "\n",
        "* Баранина\n",
        "* Ягнятина\n",
        "* Индейка\n",
        "* Говядина\n",
        "* Свинина\n",
        "* Кура\n",
        "* Цыплено\n",
        "* Гусь\n",
        "* Буйволятина\n",
        "* Оленина\n",
        "* Конина\n",
        "* Телятина\n",
        "* Кролик\n",
        "* Утка\n",
        "* Куропатка\n",
        "* Перепел\n",
        "* Глухарь\n",
        "* Страус\n",
        "* Заяц\n",
        "* Кенгуру\n",
        "* Изюбр\n",
        "* Кабан\n",
        "* Коза\n",
        "* Косуля\n",
        "* Лось\n",
        "* Марал\n",
        "* Медвежатина\n",
        "* Бобер\n",
        "* Цесарка\n",
        "* Нутрия\n",
        "* Рябчик\n",
        "* Тетерев\n",
        "* Фазан\n",
        "* Як\n",
        "\n",
        "\n",
        "Примеры входных текстов и видов продукции:\n",
        "\n",
        "1. Набор для бульона свиной Набор для бульона свиной, в наличии, 76р/кг. -> Свинина\n",
        "\n",
        "2. Мясо премиум Предлагаем котлетное мясо мраморной говядины. -> Говядина\n",
        "\n",
        "3. спинка цб -> Цыпленок\n",
        "\n",
        "Проверьте вашу модель на образцах:\n",
        "\n",
        "1. Говядина блочная 2 сорт в наличии ООО \"АгроСоюз\" реализует блочную говядину 2 сорт (80/20)\n",
        "2. Свободный объем 8 тонн Самовывоз или доставка. Все подробности по телефону.\n",
        "\n",
        "3. Куриная разделка Продам кур и куриную разделку гост и халяль по хорошей цене .Тел:\n",
        "\n",
        "4. Говяжью мукозу Продам говяжью мукозу в охл и замороженном виде. Есть объем."
      ],
      "metadata": {
        "id": "VfQiJibLjyJV"
      }
    },
    {
      "cell_type": "markdown",
      "source": [
        "## Начало работы с датасетом"
      ],
      "metadata": {
        "id": "G0NZbafXT8x4"
      }
    },
    {
      "cell_type": "code",
      "source": [
        "!pip install pymorphy2"
      ],
      "metadata": {
        "colab": {
          "base_uri": "https://localhost:8080/"
        },
        "id": "-m9kRyF5Yj_R",
        "outputId": "11ed1f53-8831-4ec7-87c8-732ae3d4da29"
      },
      "execution_count": null,
      "outputs": [
        {
          "output_type": "stream",
          "name": "stdout",
          "text": [
            "Collecting pymorphy2\n",
            "  Downloading pymorphy2-0.9.1-py3-none-any.whl (55 kB)\n",
            "\u001b[2K     \u001b[90m━━━━━━━━━━━━━━━━━━━━━━━━━━━━━━━━━━━━━━━━\u001b[0m \u001b[32m55.5/55.5 kB\u001b[0m \u001b[31m1.6 MB/s\u001b[0m eta \u001b[36m0:00:00\u001b[0m\n",
            "\u001b[?25hCollecting dawg-python>=0.7.1 (from pymorphy2)\n",
            "  Downloading DAWG_Python-0.7.2-py2.py3-none-any.whl (11 kB)\n",
            "Collecting pymorphy2-dicts-ru<3.0,>=2.4 (from pymorphy2)\n",
            "  Downloading pymorphy2_dicts_ru-2.4.417127.4579844-py2.py3-none-any.whl (8.2 MB)\n",
            "\u001b[2K     \u001b[90m━━━━━━━━━━━━━━━━━━━━━━━━━━━━━━━━━━━━━━━━\u001b[0m \u001b[32m8.2/8.2 MB\u001b[0m \u001b[31m41.3 MB/s\u001b[0m eta \u001b[36m0:00:00\u001b[0m\n",
            "\u001b[?25hCollecting docopt>=0.6 (from pymorphy2)\n",
            "  Downloading docopt-0.6.2.tar.gz (25 kB)\n",
            "  Preparing metadata (setup.py) ... \u001b[?25l\u001b[?25hdone\n",
            "Building wheels for collected packages: docopt\n",
            "  Building wheel for docopt (setup.py) ... \u001b[?25l\u001b[?25hdone\n",
            "  Created wheel for docopt: filename=docopt-0.6.2-py2.py3-none-any.whl size=13706 sha256=830eec96ab820032cb0adf6bfd060d5181f72b0a1b68eab407868b3e012a0705\n",
            "  Stored in directory: /root/.cache/pip/wheels/fc/ab/d4/5da2067ac95b36618c629a5f93f809425700506f72c9732fac\n",
            "Successfully built docopt\n",
            "Installing collected packages: pymorphy2-dicts-ru, docopt, dawg-python, pymorphy2\n",
            "Successfully installed dawg-python-0.7.2 docopt-0.6.2 pymorphy2-0.9.1 pymorphy2-dicts-ru-2.4.417127.4579844\n"
          ]
        }
      ]
    },
    {
      "cell_type": "code",
      "source": [
        "import torch\n",
        "import torch.nn as nn\n",
        "import torch.nn.functional as F\n",
        "from torch.autograd import Variable\n",
        "\n",
        "import pandas as pd\n",
        "import numpy as np\n",
        "from sklearn import decomposition\n",
        "\n",
        "import warnings\n",
        "warnings.filterwarnings(\"ignore\")\n",
        "\n",
        "import seaborn as sns\n",
        "from matplotlib import pyplot as plt\n",
        "plt.rcParams['figure.figsize'] = (10,8)\n",
        "\n",
        "import nltk\n",
        "nltk.download('stopwords')\n",
        "from nltk.corpus import stopwords\n",
        "from collections import Counter"
      ],
      "metadata": {
        "colab": {
          "base_uri": "https://localhost:8080/"
        },
        "id": "hE6AAySIOAex",
        "outputId": "38969c0d-5f4d-46f6-9da0-8b7273a6d64f"
      },
      "execution_count": null,
      "outputs": [
        {
          "output_type": "stream",
          "name": "stderr",
          "text": [
            "[nltk_data] Downloading package stopwords to /root/nltk_data...\n",
            "[nltk_data]   Package stopwords is already up-to-date!\n"
          ]
        }
      ]
    },
    {
      "cell_type": "code",
      "source": [
        "pd.set_option('max_colwidth', 120)\n",
        "pd.set_option('display.width', 500)"
      ],
      "metadata": {
        "id": "MF3PAmbcPD9V"
      },
      "execution_count": null,
      "outputs": []
    },
    {
      "cell_type": "code",
      "execution_count": null,
      "metadata": {
        "colab": {
          "base_uri": "https://localhost:8080/",
          "height": 423
        },
        "outputId": "bad17d42-88c1-430c-db3e-7de8d0f1aa42",
        "id": "UlJphsZNXDqA"
      },
      "outputs": [
        {
          "output_type": "execute_result",
          "data": {
            "text/plain": [
              "                                                                                                                          text     mtype\n",
              "0                                                                                       12 частей баранина  12 частей баранина  Баранина\n",
              "1                                                                                      Баранина, 12 частей, зам. цена 260 руб.  Баранина\n",
              "2                                                                                      Баранина, 12 частей, зам. цена 315 руб.  Баранина\n",
              "3                                                                                                    Баранина, 12 частей, охл.  Баранина\n",
              "4                                                                                      Баранина, 12 частей, охл. цена 220 руб.  Баранина\n",
              "...                                                                                                                        ...       ...\n",
              "17888                                                                                                        Ягнятина, шея, бк  Ягнятина\n",
              "17889  Язык ягненка (н.зеландия) Отварные языки ягнят с низким содержанием жира и богатые белком замечательно подходят для ...  Ягнятина\n",
              "17890                                                                                     Ягнятина, язык, зачищ. цена 100 руб.  Ягнятина\n",
              "17891                                                                              Як, задние части, 1 категория цена 550 руб.        Як\n",
              "17892                                                                                      Як, туши, 1 категория цена 150 руб.        Як\n",
              "\n",
              "[17893 rows x 2 columns]"
            ],
            "text/html": [
              "\n",
              "  <div id=\"df-92c944c7-c385-47da-bdc2-e531212e31d7\" class=\"colab-df-container\">\n",
              "    <div>\n",
              "<style scoped>\n",
              "    .dataframe tbody tr th:only-of-type {\n",
              "        vertical-align: middle;\n",
              "    }\n",
              "\n",
              "    .dataframe tbody tr th {\n",
              "        vertical-align: top;\n",
              "    }\n",
              "\n",
              "    .dataframe thead th {\n",
              "        text-align: right;\n",
              "    }\n",
              "</style>\n",
              "<table border=\"1\" class=\"dataframe\">\n",
              "  <thead>\n",
              "    <tr style=\"text-align: right;\">\n",
              "      <th></th>\n",
              "      <th>text</th>\n",
              "      <th>mtype</th>\n",
              "    </tr>\n",
              "  </thead>\n",
              "  <tbody>\n",
              "    <tr>\n",
              "      <th>0</th>\n",
              "      <td>12 частей баранина  12 частей баранина</td>\n",
              "      <td>Баранина</td>\n",
              "    </tr>\n",
              "    <tr>\n",
              "      <th>1</th>\n",
              "      <td>Баранина, 12 частей, зам. цена 260 руб.</td>\n",
              "      <td>Баранина</td>\n",
              "    </tr>\n",
              "    <tr>\n",
              "      <th>2</th>\n",
              "      <td>Баранина, 12 частей, зам. цена 315 руб.</td>\n",
              "      <td>Баранина</td>\n",
              "    </tr>\n",
              "    <tr>\n",
              "      <th>3</th>\n",
              "      <td>Баранина, 12 частей, охл.</td>\n",
              "      <td>Баранина</td>\n",
              "    </tr>\n",
              "    <tr>\n",
              "      <th>4</th>\n",
              "      <td>Баранина, 12 частей, охл. цена 220 руб.</td>\n",
              "      <td>Баранина</td>\n",
              "    </tr>\n",
              "    <tr>\n",
              "      <th>...</th>\n",
              "      <td>...</td>\n",
              "      <td>...</td>\n",
              "    </tr>\n",
              "    <tr>\n",
              "      <th>17888</th>\n",
              "      <td>Ягнятина, шея, бк</td>\n",
              "      <td>Ягнятина</td>\n",
              "    </tr>\n",
              "    <tr>\n",
              "      <th>17889</th>\n",
              "      <td>Язык ягненка (н.зеландия) Отварные языки ягнят с низким содержанием жира и богатые белком замечательно подходят для ...</td>\n",
              "      <td>Ягнятина</td>\n",
              "    </tr>\n",
              "    <tr>\n",
              "      <th>17890</th>\n",
              "      <td>Ягнятина, язык, зачищ. цена 100 руб.</td>\n",
              "      <td>Ягнятина</td>\n",
              "    </tr>\n",
              "    <tr>\n",
              "      <th>17891</th>\n",
              "      <td>Як, задние части, 1 категория цена 550 руб.</td>\n",
              "      <td>Як</td>\n",
              "    </tr>\n",
              "    <tr>\n",
              "      <th>17892</th>\n",
              "      <td>Як, туши, 1 категория цена 150 руб.</td>\n",
              "      <td>Як</td>\n",
              "    </tr>\n",
              "  </tbody>\n",
              "</table>\n",
              "<p>17893 rows × 2 columns</p>\n",
              "</div>\n",
              "    <div class=\"colab-df-buttons\">\n",
              "\n",
              "  <div class=\"colab-df-container\">\n",
              "    <button class=\"colab-df-convert\" onclick=\"convertToInteractive('df-92c944c7-c385-47da-bdc2-e531212e31d7')\"\n",
              "            title=\"Convert this dataframe to an interactive table.\"\n",
              "            style=\"display:none;\">\n",
              "\n",
              "  <svg xmlns=\"http://www.w3.org/2000/svg\" height=\"24px\" viewBox=\"0 -960 960 960\">\n",
              "    <path d=\"M120-120v-720h720v720H120Zm60-500h600v-160H180v160Zm220 220h160v-160H400v160Zm0 220h160v-160H400v160ZM180-400h160v-160H180v160Zm440 0h160v-160H620v160ZM180-180h160v-160H180v160Zm440 0h160v-160H620v160Z\"/>\n",
              "  </svg>\n",
              "    </button>\n",
              "\n",
              "  <style>\n",
              "    .colab-df-container {\n",
              "      display:flex;\n",
              "      gap: 12px;\n",
              "    }\n",
              "\n",
              "    .colab-df-convert {\n",
              "      background-color: #E8F0FE;\n",
              "      border: none;\n",
              "      border-radius: 50%;\n",
              "      cursor: pointer;\n",
              "      display: none;\n",
              "      fill: #1967D2;\n",
              "      height: 32px;\n",
              "      padding: 0 0 0 0;\n",
              "      width: 32px;\n",
              "    }\n",
              "\n",
              "    .colab-df-convert:hover {\n",
              "      background-color: #E2EBFA;\n",
              "      box-shadow: 0px 1px 2px rgba(60, 64, 67, 0.3), 0px 1px 3px 1px rgba(60, 64, 67, 0.15);\n",
              "      fill: #174EA6;\n",
              "    }\n",
              "\n",
              "    .colab-df-buttons div {\n",
              "      margin-bottom: 4px;\n",
              "    }\n",
              "\n",
              "    [theme=dark] .colab-df-convert {\n",
              "      background-color: #3B4455;\n",
              "      fill: #D2E3FC;\n",
              "    }\n",
              "\n",
              "    [theme=dark] .colab-df-convert:hover {\n",
              "      background-color: #434B5C;\n",
              "      box-shadow: 0px 1px 3px 1px rgba(0, 0, 0, 0.15);\n",
              "      filter: drop-shadow(0px 1px 2px rgba(0, 0, 0, 0.3));\n",
              "      fill: #FFFFFF;\n",
              "    }\n",
              "  </style>\n",
              "\n",
              "    <script>\n",
              "      const buttonEl =\n",
              "        document.querySelector('#df-92c944c7-c385-47da-bdc2-e531212e31d7 button.colab-df-convert');\n",
              "      buttonEl.style.display =\n",
              "        google.colab.kernel.accessAllowed ? 'block' : 'none';\n",
              "\n",
              "      async function convertToInteractive(key) {\n",
              "        const element = document.querySelector('#df-92c944c7-c385-47da-bdc2-e531212e31d7');\n",
              "        const dataTable =\n",
              "          await google.colab.kernel.invokeFunction('convertToInteractive',\n",
              "                                                    [key], {});\n",
              "        if (!dataTable) return;\n",
              "\n",
              "        const docLinkHtml = 'Like what you see? Visit the ' +\n",
              "          '<a target=\"_blank\" href=https://colab.research.google.com/notebooks/data_table.ipynb>data table notebook</a>'\n",
              "          + ' to learn more about interactive tables.';\n",
              "        element.innerHTML = '';\n",
              "        dataTable['output_type'] = 'display_data';\n",
              "        await google.colab.output.renderOutput(dataTable, element);\n",
              "        const docLink = document.createElement('div');\n",
              "        docLink.innerHTML = docLinkHtml;\n",
              "        element.appendChild(docLink);\n",
              "      }\n",
              "    </script>\n",
              "  </div>\n",
              "\n",
              "\n",
              "<div id=\"df-3c4911eb-bf2c-4e63-bbf8-1eb77b6f2442\">\n",
              "  <button class=\"colab-df-quickchart\" onclick=\"quickchart('df-3c4911eb-bf2c-4e63-bbf8-1eb77b6f2442')\"\n",
              "            title=\"Suggest charts\"\n",
              "            style=\"display:none;\">\n",
              "\n",
              "<svg xmlns=\"http://www.w3.org/2000/svg\" height=\"24px\"viewBox=\"0 0 24 24\"\n",
              "     width=\"24px\">\n",
              "    <g>\n",
              "        <path d=\"M19 3H5c-1.1 0-2 .9-2 2v14c0 1.1.9 2 2 2h14c1.1 0 2-.9 2-2V5c0-1.1-.9-2-2-2zM9 17H7v-7h2v7zm4 0h-2V7h2v10zm4 0h-2v-4h2v4z\"/>\n",
              "    </g>\n",
              "</svg>\n",
              "  </button>\n",
              "\n",
              "<style>\n",
              "  .colab-df-quickchart {\n",
              "      --bg-color: #E8F0FE;\n",
              "      --fill-color: #1967D2;\n",
              "      --hover-bg-color: #E2EBFA;\n",
              "      --hover-fill-color: #174EA6;\n",
              "      --disabled-fill-color: #AAA;\n",
              "      --disabled-bg-color: #DDD;\n",
              "  }\n",
              "\n",
              "  [theme=dark] .colab-df-quickchart {\n",
              "      --bg-color: #3B4455;\n",
              "      --fill-color: #D2E3FC;\n",
              "      --hover-bg-color: #434B5C;\n",
              "      --hover-fill-color: #FFFFFF;\n",
              "      --disabled-bg-color: #3B4455;\n",
              "      --disabled-fill-color: #666;\n",
              "  }\n",
              "\n",
              "  .colab-df-quickchart {\n",
              "    background-color: var(--bg-color);\n",
              "    border: none;\n",
              "    border-radius: 50%;\n",
              "    cursor: pointer;\n",
              "    display: none;\n",
              "    fill: var(--fill-color);\n",
              "    height: 32px;\n",
              "    padding: 0;\n",
              "    width: 32px;\n",
              "  }\n",
              "\n",
              "  .colab-df-quickchart:hover {\n",
              "    background-color: var(--hover-bg-color);\n",
              "    box-shadow: 0 1px 2px rgba(60, 64, 67, 0.3), 0 1px 3px 1px rgba(60, 64, 67, 0.15);\n",
              "    fill: var(--button-hover-fill-color);\n",
              "  }\n",
              "\n",
              "  .colab-df-quickchart-complete:disabled,\n",
              "  .colab-df-quickchart-complete:disabled:hover {\n",
              "    background-color: var(--disabled-bg-color);\n",
              "    fill: var(--disabled-fill-color);\n",
              "    box-shadow: none;\n",
              "  }\n",
              "\n",
              "  .colab-df-spinner {\n",
              "    border: 2px solid var(--fill-color);\n",
              "    border-color: transparent;\n",
              "    border-bottom-color: var(--fill-color);\n",
              "    animation:\n",
              "      spin 1s steps(1) infinite;\n",
              "  }\n",
              "\n",
              "  @keyframes spin {\n",
              "    0% {\n",
              "      border-color: transparent;\n",
              "      border-bottom-color: var(--fill-color);\n",
              "      border-left-color: var(--fill-color);\n",
              "    }\n",
              "    20% {\n",
              "      border-color: transparent;\n",
              "      border-left-color: var(--fill-color);\n",
              "      border-top-color: var(--fill-color);\n",
              "    }\n",
              "    30% {\n",
              "      border-color: transparent;\n",
              "      border-left-color: var(--fill-color);\n",
              "      border-top-color: var(--fill-color);\n",
              "      border-right-color: var(--fill-color);\n",
              "    }\n",
              "    40% {\n",
              "      border-color: transparent;\n",
              "      border-right-color: var(--fill-color);\n",
              "      border-top-color: var(--fill-color);\n",
              "    }\n",
              "    60% {\n",
              "      border-color: transparent;\n",
              "      border-right-color: var(--fill-color);\n",
              "    }\n",
              "    80% {\n",
              "      border-color: transparent;\n",
              "      border-right-color: var(--fill-color);\n",
              "      border-bottom-color: var(--fill-color);\n",
              "    }\n",
              "    90% {\n",
              "      border-color: transparent;\n",
              "      border-bottom-color: var(--fill-color);\n",
              "    }\n",
              "  }\n",
              "</style>\n",
              "\n",
              "  <script>\n",
              "    async function quickchart(key) {\n",
              "      const quickchartButtonEl =\n",
              "        document.querySelector('#' + key + ' button');\n",
              "      quickchartButtonEl.disabled = true;  // To prevent multiple clicks.\n",
              "      quickchartButtonEl.classList.add('colab-df-spinner');\n",
              "      try {\n",
              "        const charts = await google.colab.kernel.invokeFunction(\n",
              "            'suggestCharts', [key], {});\n",
              "      } catch (error) {\n",
              "        console.error('Error during call to suggestCharts:', error);\n",
              "      }\n",
              "      quickchartButtonEl.classList.remove('colab-df-spinner');\n",
              "      quickchartButtonEl.classList.add('colab-df-quickchart-complete');\n",
              "    }\n",
              "    (() => {\n",
              "      let quickchartButtonEl =\n",
              "        document.querySelector('#df-3c4911eb-bf2c-4e63-bbf8-1eb77b6f2442 button');\n",
              "      quickchartButtonEl.style.display =\n",
              "        google.colab.kernel.accessAllowed ? 'block' : 'none';\n",
              "    })();\n",
              "  </script>\n",
              "</div>\n",
              "    </div>\n",
              "  </div>\n"
            ],
            "application/vnd.google.colaboratory.intrinsic+json": {
              "type": "dataframe",
              "variable_name": "df_raw",
              "summary": "{\n  \"name\": \"df_raw\",\n  \"rows\": 17893,\n  \"fields\": [\n    {\n      \"column\": \"text\",\n      \"properties\": {\n        \"dtype\": \"string\",\n        \"num_unique_values\": 17889,\n        \"samples\": [\n          \"\\u0413\\u043e\\u0432\\u044f\\u0434\\u0438\\u043d\\u0430, \\u0431\\u0435\\u0434\\u0440\\u043e, \\u0432\\u043d\\u0435\\u0448\\u043d\\u044f\\u044f \\u0447\\u0430\\u0441\\u0442\\u044c \\u0446\\u0435\\u043d\\u0430 450 \\u0440\\u0443\\u0431.\",\n          \"\\u0441\\u0432\\u0438\\u043d\\u0430\\u044f \\u0448\\u043a\\u0443\\u0440\\u0430\",\n          \"\\u041b\\u043e\\u043f\\u0430\\u0442\\u043a\\u0430 \\u0441\\u0432\\u0438\\u043d\\u0430\\u044f \\u0431/\\u043a \\u041f\\u0440\\u043e\\u0434\\u0430\\u043c \\u043b\\u043e\\u043f\\u0430\\u0442\\u043a\\u0443 \\u0441\\u0432\\u0438\\u043d\\u0443\\u044e, \\u0431/\\u043a - 275 \\u0440\\u0443\\u0431/\\u043a\\u0433.\\n\\n\\n\\u041e\\u041e\\u041e \\u00ab\\u0421\\u0438\\u0431\\u0438\\u0440\\u0441\\u043a\\u0438\\u0439 \\u0422\\u043e\\u0440\\u0433\\u043e\\u0432\\u044b\\u0439 \\u0426\\u0435\\u043d\\u0442\\u0440\\u00bb,\\u0422\\u041c \\\"\\u0413\\u041b\\u0410\\u0412\\u041c\\u042f\\u0421\\u041e\\\" \\u0437\\u0430\\u043d\\u0438\\u043c\\u0430\\u0435\\u0442\\u0441\\u044f \\u043f\\u043e\\u0441\\u0442\\u0430\\u0432\\u043a\\u0430\\u043c\\u0438 \\u043c\\u044f\\u0441\\u0430 \\u0438 \\u043c\\u044f\\u0441\\u043e\\u043f\\u0440\\u043e\\u0434\\u0443\\u043a\\u0442\\u043e\\u0432 \\u043e\\u043f\\u0442\\u043e\\u043c \\u0438 \\u0432 \\u0440\\u043e\\u0437\\u043d\\u0438\\u0446\\u0443 \\u043d\\u0430 \\u0442\\u0435\\u0440\\u0440\\u0438\\u0442\\u043e\\u0440\\u0438\\u0438 \\u041d\\u043e\\u0432\\u043e\\u0441\\u0438\\u0431\\u0438\\u0440\\u0441\\u043a\\u0430 \\u0438 \\u0421\\u0438\\u0431\\u0438\\u0440\\u0441\\u043a\\u043e\\u0433\\u043e \\u0440\\u0435\\u0433\\u0438\\u043e\\u043d\\u0430. \\u041e\\u0441\\u043d\\u043e\\u0432\\u043d\\u043e\\u0435 \\u043d\\u0430\\u043f\\u0440\\u0430\\u0432\\u043b\\u0435\\u043d\\u0438\\u0435 \\u0434\\u0435\\u044f\\u0442\\u0435\\u043b\\u044c\\u043d\\u043e\\u0441\\u0442\\u0438 \\u043a\\u043e\\u043c\\u043f\\u0430\\u043d\\u0438\\u0438 - \\u043e\\u043f\\u0442\\u043e\\u0432\\u0430\\u044f \\u0442\\u043e\\u0440\\u0433\\u043e\\u0432\\u043b\\u044f \\u043c\\u044f\\u0441\\u043e\\u043f\\u0440\\u043e\\u0434\\u0443\\u043a\\u0442\\u0430\\u043c\\u0438 \\u0433\\u043b\\u0443\\u0431\\u043e\\u043a\\u043e\\u0439 \\u0437\\u0430\\u043c\\u043e\\u0440\\u043e\\u0437\\u043a\\u0438: \\u0433\\u043e\\u0432\\u044f\\u0434\\u0438\\u043d\\u0430, \\u0441\\u0432\\u0438\\u043d\\u0438\\u043d\\u0430, \\u0430 \\u0442\\u0430\\u043a\\u0436\\u0435 \\u043f\\u0440\\u043e\\u0438\\u0437\\u0432\\u043e\\u0434\\u0441\\u0442\\u0432\\u043e \\u0438 \\u0434\\u0438\\u0441\\u0442\\u0440\\u0438\\u0431\\u044c\\u044e\\u0446\\u0438\\u044f  \\u043c\\u044f\\u0441\\u043d\\u044b\\u0445 \\u0434\\u0435\\u043b\\u0438\\u043a\\u0430\\u0442\\u0435\\u0441\\u043e\\u0432.\\n\\n\\u0421\\u0431\\u044b\\u0442\\u043e\\u0432\\u0430\\u044f \\u0441\\u0442\\u0440\\u0430\\u0442\\u0435\\u0433\\u0438\\u044f \\u043a\\u043e\\u043c\\u043f\\u0430\\u043d\\u0438\\u0438 \\u043e\\u0440\\u0438\\u0435\\u043d\\u0442\\u0438\\u0440\\u043e\\u0432\\u0430\\u043d\\u0430 \\u043d\\u0430 \\u043a\\u0440\\u0443\\u043f\\u043d\\u043e- \\u0438 \\u043c\\u0435\\u043b\\u043a\\u043e\\u043e\\u043f\\u0442\\u043e\\u0432\\u044b\\u0435 \\u0444\\u0438\\u0440\\u043c\\u044b, \\u043f\\u0440\\u0435\\u0434\\u043f\\u0440\\u0438\\u044f\\u0442\\u0438\\u044f \\u043f\\u0440\\u043e\\u043c\\u044b\\u0448\\u043b\\u0435\\u043d\\u043d\\u043e\\u0439 \\u043f\\u0435\\u0440\\u0435\\u0440\\u0430\\u0431\\u043e\\u0442\\u043a\\u0438 \\u043c\\u044f\\u0441\\u0430, \\u043f\\u0440\\u0435\\u0434\\u043f\\u0440\\u0438\\u044f\\u0442\\u0438\\u044f \\u043e\\u0431\\u0449\\u0435\\u0441\\u0442\\u0432\\u0435\\u043d\\u043d\\u043e\\u0433\\u043e \\u043f\\u0438\\u0442\\u0430\\u043d\\u0438\\u044f \\u0438 \\u0440\\u043e\\u0437\\u043d\\u0438\\u0447\\u043d\\u043e\\u0439 \\u0442\\u043e\\u0440\\u0433\\u043e\\u0432\\u043b\\u0438.\\n\\n\\u041e\\u041e\\u041e \\u00ab\\u0421\\u0438\\u0431\\u0438\\u0440\\u0441\\u043a\\u0438\\u0439 \\u0422\\u043e\\u0440\\u0433\\u043e\\u0432\\u044b\\u0439 \\u0426\\u0435\\u043d\\u0442\\u0440\\u00bb,\\u0422\\u041c \\\"\\u0413\\u041b\\u0410\\u0412\\u041c\\u042f\\u0421\\u041e\\\" \\u043f\\u0440\\u0435\\u0434\\u043b\\u0430\\u0433\\u0430\\u0435\\u0442 \\u043e\\u043f\\u0442\\u043e\\u0432\\u044b\\u043c \\u0438 \\u0440\\u043e\\u0437\\u043d\\u0438\\u0447\\u043d\\u044b\\u043c \\u043f\\u043e\\u0442\\u0440\\u0435\\u0431\\u0438\\u0442\\u0435\\u043b\\u044f\\u043c \\u0448\\u0438\\u0440\\u043e\\u043a\\u0438\\u0439 \\u0430\\u0441\\u0441\\u043e\\u0440\\u0442\\u0438\\u043c\\u0435\\u043d\\u0442 \\u043f\\u0440\\u043e\\u0434\\u0443\\u043a\\u0446\\u0438\\u0438 \\u043e\\u0442\\u0435\\u0447\\u0435\\u0441\\u0442\\u0432\\u0435\\u043d\\u043d\\u043e\\u0433\\u043e \\u043f\\u0440\\u043e\\u0438\\u0437\\u0432\\u043e\\u0434\\u0441\\u0442\\u0432\\u0430.\\n\\n\\u041f\\u0440\\u0435\\u0434\\u043b\\u0430\\u0433\\u0430\\u0435\\u043c\\u044b\\u0435 \\u043c\\u044f\\u0441\\u043e\\u043f\\u0440\\u043e\\u0434\\u0443\\u043a\\u0442\\u044b \\u0443\\u0434\\u043e\\u0432\\u043b\\u0435\\u0442\\u0432\\u043e\\u0440\\u044f\\u044e\\u0442 \\u0441\\u0430\\u043c\\u044b\\u043c \\u0441\\u0442\\u0440\\u043e\\u0433\\u0438\\u043c \\u0441\\u0430\\u043d\\u0438\\u0442\\u0430\\u0440\\u043d\\u043e-\\u0433\\u0438\\u0433\\u0438\\u0435\\u043d\\u0438\\u0447\\u0435\\u0441\\u043a\\u0438\\u043c \\u0442\\u0440\\u0435\\u0431\\u043e\\u0432\\u0430\\u043d\\u0438\\u044f\\u043c, \\u043d\\u0435\\u043e\\u0431\\u0445\\u043e\\u0434\\u0438\\u043c\\u044b\\u0439 \\u043a\\u043e\\u043c\\u043f\\u043b\\u0435\\u043a\\u0442 \\u0441\\u043e\\u043f\\u0440\\u043e\\u0432\\u043e\\u0434\\u0438\\u0442\\u0435\\u043b\\u044c\\u043d\\u044b\\u0445 \\u0434\\u043e\\u043a\\u0443\\u043c\\u0435\\u043d\\u0442\\u043e\\u0432 \\u043f\\u0440\\u0438\\u043b\\u0430\\u0433\\u0430\\u0435\\u0442\\u0441\\u044f \\u043a \\u043a\\u0430\\u0436\\u0434\\u043e\\u0439 \\u043f\\u0430\\u0440\\u0442\\u0438\\u0438 \\u0442\\u043e\\u0432\\u0430\\u0440\\u0430.\\n\\n\\u041d\\u0430\\u043b\\u0438\\u0447\\u0438\\u0435 \\u0441\\u043e\\u0431\\u0441\\u0442\\u0432\\u0435\\u043d\\u043d\\u043e\\u0433\\u043e \\u0430\\u0432\\u0442\\u043e\\u0442\\u0440\\u0430\\u043d\\u0441\\u043f\\u043e\\u0440\\u0442\\u0430, \\u0432\\u044b\\u0441\\u043e\\u043a\\u0430\\u044f \\u043a\\u0432\\u0430\\u043b\\u0438\\u0444\\u0438\\u043a\\u0430\\u0446\\u0438\\u044f \\u0438 \\u043e\\u043f\\u044b\\u0442 \\u0441\\u043e\\u0442\\u0440\\u0443\\u0434\\u043d\\u0438\\u043a\\u043e\\u0432 \\u043e\\u0442\\u0434\\u0435\\u043b\\u0430 \\u043f\\u0440\\u043e\\u0434\\u0430\\u0436 \\u0438 \\u043b\\u043e\\u0433\\u0438\\u0441\\u0442\\u0438\\u043a\\u0438 \\u043f\\u043e\\u0437\\u0432\\u043e\\u043b\\u044f\\u044e\\u0442 \\u044d\\u0444\\u0444\\u0435\\u043a\\u0442\\u0438\\u0432\\u043d\\u043e \\u0438 \\u0432 \\u0441\\u0440\\u043e\\u043a \\u043e\\u0440\\u0433\\u0430\\u043d\\u0438\\u0437\\u043e\\u0432\\u0430\\u0442\\u044c \\u0434\\u043e\\u0441\\u0442\\u0430\\u0432\\u043a\\u0443 \\u0442\\u043e\\u0432\\u0430\\u0440\\u043e\\u0432 \\u043d\\u0435 \\u0442\\u043e\\u043b\\u044c\\u043a\\u043e \\u0432 \\u043f\\u0440\\u0435\\u0434\\u0435\\u043b\\u0430\\u0445 \\u041d\\u043e\\u0432\\u043e\\u0441\\u0438\\u0431\\u0438\\u0440\\u0441\\u043a\\u0430, \\u043d\\u043e \\u0438 \\u0432 \\u043b\\u044e\\u0431\\u043e\\u0439 \\u0440\\u0435\\u0433\\u0438\\u043e\\u043d \\u0420\\u0424.\"\n        ],\n        \"semantic_type\": \"\",\n        \"description\": \"\"\n      }\n    },\n    {\n      \"column\": \"mtype\",\n      \"properties\": {\n        \"dtype\": \"category\",\n        \"num_unique_values\": 49,\n        \"samples\": [\n          \"\\u041a\\u0440\\u043e\\u043b\\u0438\\u043a\",\n          \"\\u0422\\u0435\\u0442\\u0435\\u0440\\u0435\\u0432\",\n          \"\\u0424\\u0430\\u0437\\u0430\\u043d\"\n        ],\n        \"semantic_type\": \"\",\n        \"description\": \"\"\n      }\n    }\n  ]\n}"
            }
          },
          "metadata": {},
          "execution_count": 381
        }
      ],
      "source": [
        "import pandas as pd\n",
        "df_raw = pd.read_csv(\"meatinfo.csv\", sep=';', on_bad_lines='skip')\n",
        "df_raw"
      ]
    },
    {
      "cell_type": "code",
      "source": [
        "df = df_raw.copy()"
      ],
      "metadata": {
        "id": "wyqEpKh1PQ42"
      },
      "execution_count": null,
      "outputs": []
    },
    {
      "cell_type": "markdown",
      "source": [
        "## Виды продукции, для которых в датасете есть не менее 500 примеров"
      ],
      "metadata": {
        "id": "CFKPXO-8QpwA"
      }
    },
    {
      "cell_type": "code",
      "source": [
        "classes = ['Баранина',\n",
        " 'Ягнятина',\n",
        " 'Индейка',\n",
        " 'Говядина',\n",
        " 'Свинина',\n",
        " 'Кура',\n",
        " 'Цыпленок',\n",
        " 'Гусь',\n",
        " 'Буйволятина',\n",
        " 'Оленина',\n",
        " 'Конина',\n",
        " 'Телятина',\n",
        " 'Кролик',\n",
        " 'Утка',\n",
        " 'Куропатка',\n",
        " 'Перепел',\n",
        " 'Глухарь',\n",
        " 'Страус',\n",
        " 'Заяц',\n",
        " 'Кенгуру',\n",
        " 'Изюбр',\n",
        " 'Кабан',\n",
        " 'Коза',\n",
        " 'Косуля',\n",
        " 'Лось',\n",
        " 'Марал',\n",
        " 'Медвежатина',\n",
        " 'Бобер',\n",
        " 'Цесарка',\n",
        " 'Нутрия',\n",
        " 'Рябчик',\n",
        " 'Тетерев',\n",
        " 'Фазан',\n",
        " 'Як']"
      ],
      "metadata": {
        "id": "S69VcB9oPUXI"
      },
      "execution_count": null,
      "outputs": []
    },
    {
      "cell_type": "markdown",
      "source": [
        "Оставим только те классы, частота встречи которых в датасете не меньше 500."
      ],
      "metadata": {
        "id": "moJTrw7tQsH8"
      }
    },
    {
      "cell_type": "code",
      "source": [
        "from collections import Counter\n",
        "\n",
        "cnt = Counter(df['mtype'])\n",
        "\n",
        "cnt = dict(cnt)\n",
        "\n",
        "result = {key: value for key, value in cnt.items() if value > 500}\n",
        "\n",
        "result"
      ],
      "metadata": {
        "colab": {
          "base_uri": "https://localhost:8080/"
        },
        "id": "9ey_bHm6RY1w",
        "outputId": "27252dc8-17b4-408d-e6c1-b4fa474f6816"
      },
      "execution_count": null,
      "outputs": [
        {
          "output_type": "execute_result",
          "data": {
            "text/plain": [
              "{'Баранина': 1116,\n",
              " 'Индейка': 1337,\n",
              " 'Говядина': 8422,\n",
              " 'Свинина': 3050,\n",
              " 'Кура': 1571,\n",
              " 'Цыпленок': 942}"
            ]
          },
          "metadata": {},
          "execution_count": 384
        }
      ]
    },
    {
      "cell_type": "code",
      "source": [
        "def get_key(d, value):\n",
        "    for k, v in d.items():\n",
        "        if v == value:\n",
        "            return k\n",
        "\n",
        "my_tags = []\n",
        "\n",
        "for val in result.values():\n",
        "  my_tags.append(get_key(result, val))\n",
        "\n",
        "my_tags"
      ],
      "metadata": {
        "colab": {
          "base_uri": "https://localhost:8080/"
        },
        "id": "_GleoP52giJU",
        "outputId": "83683e4b-ca18-4f1b-fba4-6b03d11ea23e"
      },
      "execution_count": null,
      "outputs": [
        {
          "output_type": "execute_result",
          "data": {
            "text/plain": [
              "['Баранина', 'Индейка', 'Говядина', 'Свинина', 'Кура', 'Цыпленок']"
            ]
          },
          "metadata": {},
          "execution_count": 415
        }
      ]
    },
    {
      "cell_type": "code",
      "source": [
        "for i in range(len(df)):\n",
        "  if df['mtype'][i] not in result:\n",
        "    df = df.drop(index=[i])"
      ],
      "metadata": {
        "id": "7QwZm_iiSmio"
      },
      "execution_count": null,
      "outputs": []
    },
    {
      "cell_type": "code",
      "source": [
        "df = df.reset_index(drop=True)"
      ],
      "metadata": {
        "id": "sBTYiJdHWOG2"
      },
      "execution_count": null,
      "outputs": []
    },
    {
      "cell_type": "code",
      "source": [
        "df['mtype'].unique()"
      ],
      "metadata": {
        "colab": {
          "base_uri": "https://localhost:8080/"
        },
        "id": "taJk8F3hSsj4",
        "outputId": "f387aadb-c206-47fa-9d87-32cd7937c7d2"
      },
      "execution_count": null,
      "outputs": [
        {
          "output_type": "execute_result",
          "data": {
            "text/plain": [
              "array(['Баранина', 'Индейка', 'Говядина', 'Свинина', 'Кура', 'Цыпленок'],\n",
              "      dtype=object)"
            ]
          },
          "metadata": {},
          "execution_count": 387
        }
      ]
    },
    {
      "cell_type": "code",
      "source": [
        "df"
      ],
      "metadata": {
        "colab": {
          "base_uri": "https://localhost:8080/",
          "height": 423
        },
        "id": "3CTYQhJ2XW7O",
        "outputId": "3fdc04c9-24b6-445c-b2b1-b0e0784bcb4f"
      },
      "execution_count": null,
      "outputs": [
        {
          "output_type": "execute_result",
          "data": {
            "text/plain": [
              "                                                                                    text     mtype\n",
              "0                                                 12 частей баранина  12 частей баранина  Баранина\n",
              "1                                                Баранина, 12 частей, зам. цена 260 руб.  Баранина\n",
              "2                                                Баранина, 12 частей, зам. цена 315 руб.  Баранина\n",
              "3                                                              Баранина, 12 частей, охл.  Баранина\n",
              "4                                                Баранина, 12 частей, охл. цена 220 руб.  Баранина\n",
              "...                                                                                  ...       ...\n",
              "16433                                                       Цыпленок, четвертина, задняя  Цыпленок\n",
              "16434                                         Цыпленок, четвертина, задняя цена 100 руб.  Цыпленок\n",
              "16435  ЦБ Шеи п/ф Свеженка ГОСТ зам пак Шеи куриные ПОЗЦ Свеженка ГОСТ, заморозка, пакет  Цыпленок\n",
              "16436                                                            Цыпленок, шея, без кожи  Цыпленок\n",
              "16437                                               Цыпленок, шея, без кожи цена 27 руб.  Цыпленок\n",
              "\n",
              "[16438 rows x 2 columns]"
            ],
            "text/html": [
              "\n",
              "  <div id=\"df-326f7197-08a4-44c6-b775-c50823a8c2bf\" class=\"colab-df-container\">\n",
              "    <div>\n",
              "<style scoped>\n",
              "    .dataframe tbody tr th:only-of-type {\n",
              "        vertical-align: middle;\n",
              "    }\n",
              "\n",
              "    .dataframe tbody tr th {\n",
              "        vertical-align: top;\n",
              "    }\n",
              "\n",
              "    .dataframe thead th {\n",
              "        text-align: right;\n",
              "    }\n",
              "</style>\n",
              "<table border=\"1\" class=\"dataframe\">\n",
              "  <thead>\n",
              "    <tr style=\"text-align: right;\">\n",
              "      <th></th>\n",
              "      <th>text</th>\n",
              "      <th>mtype</th>\n",
              "    </tr>\n",
              "  </thead>\n",
              "  <tbody>\n",
              "    <tr>\n",
              "      <th>0</th>\n",
              "      <td>12 частей баранина  12 частей баранина</td>\n",
              "      <td>Баранина</td>\n",
              "    </tr>\n",
              "    <tr>\n",
              "      <th>1</th>\n",
              "      <td>Баранина, 12 частей, зам. цена 260 руб.</td>\n",
              "      <td>Баранина</td>\n",
              "    </tr>\n",
              "    <tr>\n",
              "      <th>2</th>\n",
              "      <td>Баранина, 12 частей, зам. цена 315 руб.</td>\n",
              "      <td>Баранина</td>\n",
              "    </tr>\n",
              "    <tr>\n",
              "      <th>3</th>\n",
              "      <td>Баранина, 12 частей, охл.</td>\n",
              "      <td>Баранина</td>\n",
              "    </tr>\n",
              "    <tr>\n",
              "      <th>4</th>\n",
              "      <td>Баранина, 12 частей, охл. цена 220 руб.</td>\n",
              "      <td>Баранина</td>\n",
              "    </tr>\n",
              "    <tr>\n",
              "      <th>...</th>\n",
              "      <td>...</td>\n",
              "      <td>...</td>\n",
              "    </tr>\n",
              "    <tr>\n",
              "      <th>16433</th>\n",
              "      <td>Цыпленок, четвертина, задняя</td>\n",
              "      <td>Цыпленок</td>\n",
              "    </tr>\n",
              "    <tr>\n",
              "      <th>16434</th>\n",
              "      <td>Цыпленок, четвертина, задняя цена 100 руб.</td>\n",
              "      <td>Цыпленок</td>\n",
              "    </tr>\n",
              "    <tr>\n",
              "      <th>16435</th>\n",
              "      <td>ЦБ Шеи п/ф Свеженка ГОСТ зам пак Шеи куриные ПОЗЦ Свеженка ГОСТ, заморозка, пакет</td>\n",
              "      <td>Цыпленок</td>\n",
              "    </tr>\n",
              "    <tr>\n",
              "      <th>16436</th>\n",
              "      <td>Цыпленок, шея, без кожи</td>\n",
              "      <td>Цыпленок</td>\n",
              "    </tr>\n",
              "    <tr>\n",
              "      <th>16437</th>\n",
              "      <td>Цыпленок, шея, без кожи цена 27 руб.</td>\n",
              "      <td>Цыпленок</td>\n",
              "    </tr>\n",
              "  </tbody>\n",
              "</table>\n",
              "<p>16438 rows × 2 columns</p>\n",
              "</div>\n",
              "    <div class=\"colab-df-buttons\">\n",
              "\n",
              "  <div class=\"colab-df-container\">\n",
              "    <button class=\"colab-df-convert\" onclick=\"convertToInteractive('df-326f7197-08a4-44c6-b775-c50823a8c2bf')\"\n",
              "            title=\"Convert this dataframe to an interactive table.\"\n",
              "            style=\"display:none;\">\n",
              "\n",
              "  <svg xmlns=\"http://www.w3.org/2000/svg\" height=\"24px\" viewBox=\"0 -960 960 960\">\n",
              "    <path d=\"M120-120v-720h720v720H120Zm60-500h600v-160H180v160Zm220 220h160v-160H400v160Zm0 220h160v-160H400v160ZM180-400h160v-160H180v160Zm440 0h160v-160H620v160ZM180-180h160v-160H180v160Zm440 0h160v-160H620v160Z\"/>\n",
              "  </svg>\n",
              "    </button>\n",
              "\n",
              "  <style>\n",
              "    .colab-df-container {\n",
              "      display:flex;\n",
              "      gap: 12px;\n",
              "    }\n",
              "\n",
              "    .colab-df-convert {\n",
              "      background-color: #E8F0FE;\n",
              "      border: none;\n",
              "      border-radius: 50%;\n",
              "      cursor: pointer;\n",
              "      display: none;\n",
              "      fill: #1967D2;\n",
              "      height: 32px;\n",
              "      padding: 0 0 0 0;\n",
              "      width: 32px;\n",
              "    }\n",
              "\n",
              "    .colab-df-convert:hover {\n",
              "      background-color: #E2EBFA;\n",
              "      box-shadow: 0px 1px 2px rgba(60, 64, 67, 0.3), 0px 1px 3px 1px rgba(60, 64, 67, 0.15);\n",
              "      fill: #174EA6;\n",
              "    }\n",
              "\n",
              "    .colab-df-buttons div {\n",
              "      margin-bottom: 4px;\n",
              "    }\n",
              "\n",
              "    [theme=dark] .colab-df-convert {\n",
              "      background-color: #3B4455;\n",
              "      fill: #D2E3FC;\n",
              "    }\n",
              "\n",
              "    [theme=dark] .colab-df-convert:hover {\n",
              "      background-color: #434B5C;\n",
              "      box-shadow: 0px 1px 3px 1px rgba(0, 0, 0, 0.15);\n",
              "      filter: drop-shadow(0px 1px 2px rgba(0, 0, 0, 0.3));\n",
              "      fill: #FFFFFF;\n",
              "    }\n",
              "  </style>\n",
              "\n",
              "    <script>\n",
              "      const buttonEl =\n",
              "        document.querySelector('#df-326f7197-08a4-44c6-b775-c50823a8c2bf button.colab-df-convert');\n",
              "      buttonEl.style.display =\n",
              "        google.colab.kernel.accessAllowed ? 'block' : 'none';\n",
              "\n",
              "      async function convertToInteractive(key) {\n",
              "        const element = document.querySelector('#df-326f7197-08a4-44c6-b775-c50823a8c2bf');\n",
              "        const dataTable =\n",
              "          await google.colab.kernel.invokeFunction('convertToInteractive',\n",
              "                                                    [key], {});\n",
              "        if (!dataTable) return;\n",
              "\n",
              "        const docLinkHtml = 'Like what you see? Visit the ' +\n",
              "          '<a target=\"_blank\" href=https://colab.research.google.com/notebooks/data_table.ipynb>data table notebook</a>'\n",
              "          + ' to learn more about interactive tables.';\n",
              "        element.innerHTML = '';\n",
              "        dataTable['output_type'] = 'display_data';\n",
              "        await google.colab.output.renderOutput(dataTable, element);\n",
              "        const docLink = document.createElement('div');\n",
              "        docLink.innerHTML = docLinkHtml;\n",
              "        element.appendChild(docLink);\n",
              "      }\n",
              "    </script>\n",
              "  </div>\n",
              "\n",
              "\n",
              "<div id=\"df-c6212db9-8af3-4b2c-90ea-45a7975d3776\">\n",
              "  <button class=\"colab-df-quickchart\" onclick=\"quickchart('df-c6212db9-8af3-4b2c-90ea-45a7975d3776')\"\n",
              "            title=\"Suggest charts\"\n",
              "            style=\"display:none;\">\n",
              "\n",
              "<svg xmlns=\"http://www.w3.org/2000/svg\" height=\"24px\"viewBox=\"0 0 24 24\"\n",
              "     width=\"24px\">\n",
              "    <g>\n",
              "        <path d=\"M19 3H5c-1.1 0-2 .9-2 2v14c0 1.1.9 2 2 2h14c1.1 0 2-.9 2-2V5c0-1.1-.9-2-2-2zM9 17H7v-7h2v7zm4 0h-2V7h2v10zm4 0h-2v-4h2v4z\"/>\n",
              "    </g>\n",
              "</svg>\n",
              "  </button>\n",
              "\n",
              "<style>\n",
              "  .colab-df-quickchart {\n",
              "      --bg-color: #E8F0FE;\n",
              "      --fill-color: #1967D2;\n",
              "      --hover-bg-color: #E2EBFA;\n",
              "      --hover-fill-color: #174EA6;\n",
              "      --disabled-fill-color: #AAA;\n",
              "      --disabled-bg-color: #DDD;\n",
              "  }\n",
              "\n",
              "  [theme=dark] .colab-df-quickchart {\n",
              "      --bg-color: #3B4455;\n",
              "      --fill-color: #D2E3FC;\n",
              "      --hover-bg-color: #434B5C;\n",
              "      --hover-fill-color: #FFFFFF;\n",
              "      --disabled-bg-color: #3B4455;\n",
              "      --disabled-fill-color: #666;\n",
              "  }\n",
              "\n",
              "  .colab-df-quickchart {\n",
              "    background-color: var(--bg-color);\n",
              "    border: none;\n",
              "    border-radius: 50%;\n",
              "    cursor: pointer;\n",
              "    display: none;\n",
              "    fill: var(--fill-color);\n",
              "    height: 32px;\n",
              "    padding: 0;\n",
              "    width: 32px;\n",
              "  }\n",
              "\n",
              "  .colab-df-quickchart:hover {\n",
              "    background-color: var(--hover-bg-color);\n",
              "    box-shadow: 0 1px 2px rgba(60, 64, 67, 0.3), 0 1px 3px 1px rgba(60, 64, 67, 0.15);\n",
              "    fill: var(--button-hover-fill-color);\n",
              "  }\n",
              "\n",
              "  .colab-df-quickchart-complete:disabled,\n",
              "  .colab-df-quickchart-complete:disabled:hover {\n",
              "    background-color: var(--disabled-bg-color);\n",
              "    fill: var(--disabled-fill-color);\n",
              "    box-shadow: none;\n",
              "  }\n",
              "\n",
              "  .colab-df-spinner {\n",
              "    border: 2px solid var(--fill-color);\n",
              "    border-color: transparent;\n",
              "    border-bottom-color: var(--fill-color);\n",
              "    animation:\n",
              "      spin 1s steps(1) infinite;\n",
              "  }\n",
              "\n",
              "  @keyframes spin {\n",
              "    0% {\n",
              "      border-color: transparent;\n",
              "      border-bottom-color: var(--fill-color);\n",
              "      border-left-color: var(--fill-color);\n",
              "    }\n",
              "    20% {\n",
              "      border-color: transparent;\n",
              "      border-left-color: var(--fill-color);\n",
              "      border-top-color: var(--fill-color);\n",
              "    }\n",
              "    30% {\n",
              "      border-color: transparent;\n",
              "      border-left-color: var(--fill-color);\n",
              "      border-top-color: var(--fill-color);\n",
              "      border-right-color: var(--fill-color);\n",
              "    }\n",
              "    40% {\n",
              "      border-color: transparent;\n",
              "      border-right-color: var(--fill-color);\n",
              "      border-top-color: var(--fill-color);\n",
              "    }\n",
              "    60% {\n",
              "      border-color: transparent;\n",
              "      border-right-color: var(--fill-color);\n",
              "    }\n",
              "    80% {\n",
              "      border-color: transparent;\n",
              "      border-right-color: var(--fill-color);\n",
              "      border-bottom-color: var(--fill-color);\n",
              "    }\n",
              "    90% {\n",
              "      border-color: transparent;\n",
              "      border-bottom-color: var(--fill-color);\n",
              "    }\n",
              "  }\n",
              "</style>\n",
              "\n",
              "  <script>\n",
              "    async function quickchart(key) {\n",
              "      const quickchartButtonEl =\n",
              "        document.querySelector('#' + key + ' button');\n",
              "      quickchartButtonEl.disabled = true;  // To prevent multiple clicks.\n",
              "      quickchartButtonEl.classList.add('colab-df-spinner');\n",
              "      try {\n",
              "        const charts = await google.colab.kernel.invokeFunction(\n",
              "            'suggestCharts', [key], {});\n",
              "      } catch (error) {\n",
              "        console.error('Error during call to suggestCharts:', error);\n",
              "      }\n",
              "      quickchartButtonEl.classList.remove('colab-df-spinner');\n",
              "      quickchartButtonEl.classList.add('colab-df-quickchart-complete');\n",
              "    }\n",
              "    (() => {\n",
              "      let quickchartButtonEl =\n",
              "        document.querySelector('#df-c6212db9-8af3-4b2c-90ea-45a7975d3776 button');\n",
              "      quickchartButtonEl.style.display =\n",
              "        google.colab.kernel.accessAllowed ? 'block' : 'none';\n",
              "    })();\n",
              "  </script>\n",
              "</div>\n",
              "    </div>\n",
              "  </div>\n"
            ],
            "application/vnd.google.colaboratory.intrinsic+json": {
              "type": "dataframe",
              "variable_name": "df",
              "summary": "{\n  \"name\": \"df\",\n  \"rows\": 16438,\n  \"fields\": [\n    {\n      \"column\": \"text\",\n      \"properties\": {\n        \"dtype\": \"string\",\n        \"num_unique_values\": 16434,\n        \"samples\": [\n          \"\\u043c\\u044f\\u0441\\u043e \\u0433\\u043e\\u0432\\u044f\\u0434\\u0438\\u043d\\u044b \\u043e\\u043f\\u0442\\u043e\\u043c \\u043e\\u0442 \\u043f\\u0440\\u043e\\u0438\\u0437\\u0432\\u043e\\u0434\\u0438\\u0442\\u0435\\u043b\\u044f.  \\u041c\\u044f\\u0441\\u043e \\u0433\\u043e\\u0432\\u044f\\u0434\\u0438\\u043d\\u044b, \\u043f\\u0440\\u043e\\u0438\\u0437\\u0432\\u043e\\u0434\\u0441\\u0442\\u0432\\u043e \\u0420\\u043e\\u0441\\u0441\\u0438\\u0438, \\u0432 \\u043d\\u0430\\u043b\\u0438\\u0447\\u0438\\u0438 \\u0438 \\u043f\\u043e\\u0434 \\u0437\\u0430\\u043a\\u0430\\u0437.\\n\\u0422\\u0430\\u0437\\u043e\\u0431\\u0435\\u0434\\u0440\\u0435\\u043d\\u043d\\u044b\\u0439  \\u043e\\u0442\\u0440\\u0443\\u0431 \\u0431/\\u043a,  - 400,00\\n\\u0428\\u0435\\u0439\\u043d\\u043e-\\u043b\\u043e\\u043f\\u0430\\u0442\\u043e\\u0447\\u043d\\u044b\\u0439 \\u043e\\u0442\\u0440\\u0443\\u0431 \\u0431/\\u043a - 370,00\\n\\u041c\\u044f\\u0441\\u043e \\u0441 \\u0433\\u043e\\u043b\\u043e\\u0432 \\u0433\\u043e\\u0432\\u044f\\u0436\\u044c\\u0438\\u0445-201,00\\n\\u041e\\u0434\\u043d\\u043e\\u0441\\u043e\\u0440\\u0442\\u043d\\u043e\\u0435 - 343,00\\n\\u0413\\u043e\\u0432\\u044f\\u0434\\u0438\\u043d\\u0430 \\u0431/\\u043a. 2 \\u0441\\u043e\\u0440\\u0442, \\u0441\\u043e\\u0435\\u0434\\u0438\\u043d\\u0438\\u0442. \\u0438 \\u0436\\u0438\\u0440\\u043e\\u0432\\u043e\\u0439 \\u0442\\u043a\\u0430\\u043d\\u0438 \\u043d\\u0435 \\u0431\\u043e\\u043b\\u0435\\u0435 35 %-245,00\\n\\u0413\\u043e\\u0432\\u044f\\u0434\\u0438\\u043d\\u0430 \\u0431/\\u043a. 2 \\u0441\\u043e\\u0440\\u0442, \\u0441\\u043e\\u0435\\u0434\\u0438\\u043d\\u0438\\u0442. \\u0438 \\u0436\\u0438\\u0440\\u043e\\u0432\\u043e\\u0439 \\u0442\\u043a\\u0430\\u043d\\u0438 \\u043d\\u0435 \\u0431\\u043e\\u043b\\u0435\\u0435 14 %-286,00\\n\\u0421\\u0443\\u043f. \\u043d\\u0430\\u0431\\u043e\\u0440-54,00\\n\\u0412\\u0441\\u044f \\u043f\\u0440\\u043e\\u0434\\u0443\\u043a\\u0446\\u0438\\u044f \\u0441\\u043e\\u0431\\u0441\\u0442\\u0432\\u0435\\u043d\\u043d\\u043e\\u0433\\u043e \\u043f\\u0440\\u043e\\u0438\\u0437\\u0432\\u043e\\u0434\\u0441\\u0442\\u0432\\u0430.\",\n          \"\\u041a\\u0443\\u0440\\u044b \\u0431\\u0435\\u0437 \\u043a\\u043e\\u0441\\u0442\\u0435\\u0439 \\u043d\\u0430 \\u043a\\u043e\\u0436\\u0435 (\\u0448\\u0430\\u0443\\u0440\\u043c\\u0430) \\u0437\\u0430\\u043c. \\u0442\\u0443\\u0448\\u043a\\u0430 \\u0431\\u043a \\u0441/\\u043a (\\u0448\\u0430\\u0443\\u0440\\u043c\\u0430) 8*2 5\\u043a\\u0433 1/20 \\u0440\\u0443\\u0441\\u043f\\u0440\\u043e\\u0434\\u0442\\u043e\\u0440\\u0433\",\n          \"\\u0413\\u043e\\u0432\\u044f\\u0434\\u0438\\u043d\\u0430, \\u043e\\u043a\\u043e\\u0432\\u0430\\u043b\\u043e\\u043a, \\u0437\\u0430\\u043c. \\u0446\\u0435\\u043d\\u0430 341 \\u0440\\u0443\\u0431.\"\n        ],\n        \"semantic_type\": \"\",\n        \"description\": \"\"\n      }\n    },\n    {\n      \"column\": \"mtype\",\n      \"properties\": {\n        \"dtype\": \"category\",\n        \"num_unique_values\": 6,\n        \"samples\": [\n          \"\\u0411\\u0430\\u0440\\u0430\\u043d\\u0438\\u043d\\u0430\",\n          \"\\u0418\\u043d\\u0434\\u0435\\u0439\\u043a\\u0430\",\n          \"\\u0426\\u044b\\u043f\\u043b\\u0435\\u043d\\u043e\\u043a\"\n        ],\n        \"semantic_type\": \"\",\n        \"description\": \"\"\n      }\n    }\n  ]\n}"
            }
          },
          "metadata": {},
          "execution_count": 388
        }
      ]
    },
    {
      "cell_type": "markdown",
      "source": [
        "## Предобработка данных"
      ],
      "metadata": {
        "id": "4bZHvba4e1mW"
      }
    },
    {
      "cell_type": "code",
      "source": [
        "import re\n",
        "import string\n",
        "import nltk\n",
        "nltk.download(\"punkt\")\n",
        "from nltk import word_tokenize\n",
        "nltk.download(\"stopwords\")\n",
        "from nltk.corpus import stopwords"
      ],
      "metadata": {
        "colab": {
          "base_uri": "https://localhost:8080/"
        },
        "id": "hXJTjL28bgrL",
        "outputId": "7b4a8b72-7477-47ca-f1d3-ccbb00a501fa"
      },
      "execution_count": null,
      "outputs": [
        {
          "output_type": "stream",
          "name": "stderr",
          "text": [
            "[nltk_data] Downloading package punkt to /root/nltk_data...\n",
            "[nltk_data]   Package punkt is already up-to-date!\n",
            "[nltk_data] Downloading package stopwords to /root/nltk_data...\n",
            "[nltk_data]   Package stopwords is already up-to-date!\n"
          ]
        }
      ]
    },
    {
      "cell_type": "code",
      "source": [
        "import pymorphy2\n",
        "\n",
        "morph = pymorphy2.MorphAnalyzer()\n",
        "stopwords = set(stopwords.words('russian'))"
      ],
      "metadata": {
        "id": "BHs7VkJ4ZSX9"
      },
      "execution_count": null,
      "outputs": []
    },
    {
      "cell_type": "code",
      "source": [
        "def clean_text(text):\n",
        "\n",
        "    text = text.lower() # приводим к нижнему регистру\n",
        "    text = re.sub(r\"\\[(.*?)\\]\", \"\", text)  # удаляем слова в квадратных скобках как [+300 chars\n",
        "    text = re.sub(r\"\\s+\", \" \", text)  # удаляем множественный пробел, табуляцию и перенос строки\n",
        "    text = ''.join([\"\" if t.isdigit() else t for t in text])\n",
        "    text = re.sub(r'[^\\w\\s]', '', text)  # удаляем знаки препинания\n",
        "    text = re.sub(r\"\\w+…|…\", \"\", text)  # удаляем многоточие\n",
        "    text = re.sub(r\"(?<=\\w)-(?=\\w)\", \" \", text) # заменяем дефис на пробел\n",
        "    text = re.sub(f\"[{re.escape(string.punctuation)}]\", \"\", text)  # удаляем пунктуацию\n",
        "\n",
        "    text = morph.parse(text)[0].normal_form\n",
        "\n",
        "    return text"
      ],
      "metadata": {
        "id": "CRR5GP7vb_TU"
      },
      "execution_count": null,
      "outputs": []
    },
    {
      "cell_type": "code",
      "source": [
        "df[\"tokens\"] = df[\"text\"].map(lambda x: clean_text(x))\n",
        "\n",
        "# удаляем пустые значения и сохраняем два столбца: тексты и токены\n",
        "df = df.loc[df.tokens.map(lambda x: len(x) > 0), [\"text\", \"tokens\", 'mtype']]\n",
        "\n",
        "# удаляем дубликаты строк\n",
        "_, idx = np.unique(df[\"tokens\"], return_index=True)\n",
        "df = df.iloc[idx, :]\n",
        "\n",
        "docs = df[\"text\"].values\n",
        "tokenized_docs = df[\"tokens\"].values"
      ],
      "metadata": {
        "id": "ylD3F96JWvkn"
      },
      "execution_count": null,
      "outputs": []
    },
    {
      "cell_type": "code",
      "source": [
        "print(f\"Исходные данные: {df_raw.shape}\")\n",
        "print(f\"Данные после предобработки: {df.shape}\")\n",
        "df.head(10)"
      ],
      "metadata": {
        "colab": {
          "base_uri": "https://localhost:8080/",
          "height": 501
        },
        "id": "XSJVfh9fW6CP",
        "outputId": "8269d170-b1af-428d-a768-462a28c1e18e"
      },
      "execution_count": null,
      "outputs": [
        {
          "output_type": "stream",
          "name": "stdout",
          "text": [
            "Исходные данные: (17893, 2)\n",
            "Данные после предобработки: (11641, 3)\n"
          ]
        },
        {
          "output_type": "execute_result",
          "data": {
            "text/plain": [
              "                                                                                                                         text                                                                                                                   tokens     mtype\n",
              "3385                                                  220 ₽ мясо голов говяжьих Продам мясо голов говяжьих со щекой 220 с ндс                                                           мясо голов говяжьих продам мясо голов говяжьих со щекой  с ндс  Говядина\n",
              "2492                                                                                    3 вида карбоната Натуральный карбонат                                                                                      вида карбоната натуральный карбонат   Свинина\n",
              "3294                                                   * Говядина из Сербии. Сухое мясо! Говядина из Сербии. Прямые поставки.                                                         говядина из сербии сухое мясо говядина из сербии прямые поставка  Говядина\n",
              "3379  2 Говядина Мякоть Новосибирская Мясная Компания - один из лидеров рынка поставок свежей Алтайской говядины, более 10...   говядина мякоть новосибирская мясная компания  один из лидеров рынка поставок свежей алтайской говядины более  лет ...  Говядина\n",
              "1564                   !!! Грудинка Св. Ивр   (дели)   248 р. На складе в  г. Наро-Фоминск  Грудинка св. ИВР (Дели) по 248 р.                                             грудинка св ивр дели  р на складе в г нарофоминск грудинка св ивр дели по  р   Свинина\n",
              "1565                                                                               :) грудинка свин нк 162 р грудинка свин нк                                                                                     грудинка свин нк  р грудинка свин нк   Свинина\n",
              "5459  , коровы, охл 162.00 Говядина, полутуши, 1 категория, коровы, охл, Белоруссия, подвес, склад, от 16 тонн\\nб/н 162.00...   коровы охл  говядина полутуши  категория коровы охл белоруссия подвес склад от  тонн бн  руб  предоплата доставка в...  Говядина\n",
              "7550                ... машины ЦБ Продаю три машины ЦБ 1 сорт вес куры 1,7-2,2 кг. РБ .Приход на склад 37 неделя.Общий пакет.                                  машины цб продаю три машины цб  сорт вес куры  кг рб приход на склад  неделяобщий пакет      Кура\n",
              "5399   охлажденное, 162.00 руб компания ООО “ МЖК ПРОМТОРГ”    реализует на постоянной основе мясо говядины в полутушах,95...   охлажденное  руб компания ооо  мжк промторг реализует на постоянной основе мясо говядины в полутушах корова охлажде...  Говядина\n",
              "3381     2 сорт / ГОСТ / сухое мясо / 288 р Говядина 2 сорт, постность  80/20\\nСухое мясо, подходит под все виды переработки.                        сорт  гост  сухое мясо   р говядина  сорт постность  сухое мясо подходит под все виды переработка  Говядина"
            ],
            "text/html": [
              "\n",
              "  <div id=\"df-f72755d8-227a-460a-a7d9-dea8162dca8d\" class=\"colab-df-container\">\n",
              "    <div>\n",
              "<style scoped>\n",
              "    .dataframe tbody tr th:only-of-type {\n",
              "        vertical-align: middle;\n",
              "    }\n",
              "\n",
              "    .dataframe tbody tr th {\n",
              "        vertical-align: top;\n",
              "    }\n",
              "\n",
              "    .dataframe thead th {\n",
              "        text-align: right;\n",
              "    }\n",
              "</style>\n",
              "<table border=\"1\" class=\"dataframe\">\n",
              "  <thead>\n",
              "    <tr style=\"text-align: right;\">\n",
              "      <th></th>\n",
              "      <th>text</th>\n",
              "      <th>tokens</th>\n",
              "      <th>mtype</th>\n",
              "    </tr>\n",
              "  </thead>\n",
              "  <tbody>\n",
              "    <tr>\n",
              "      <th>3385</th>\n",
              "      <td>220 ₽ мясо голов говяжьих Продам мясо голов говяжьих со щекой 220 с ндс</td>\n",
              "      <td>мясо голов говяжьих продам мясо голов говяжьих со щекой  с ндс</td>\n",
              "      <td>Говядина</td>\n",
              "    </tr>\n",
              "    <tr>\n",
              "      <th>2492</th>\n",
              "      <td>3 вида карбоната Натуральный карбонат</td>\n",
              "      <td>вида карбоната натуральный карбонат</td>\n",
              "      <td>Свинина</td>\n",
              "    </tr>\n",
              "    <tr>\n",
              "      <th>3294</th>\n",
              "      <td>* Говядина из Сербии. Сухое мясо! Говядина из Сербии. Прямые поставки.</td>\n",
              "      <td>говядина из сербии сухое мясо говядина из сербии прямые поставка</td>\n",
              "      <td>Говядина</td>\n",
              "    </tr>\n",
              "    <tr>\n",
              "      <th>3379</th>\n",
              "      <td>2 Говядина Мякоть Новосибирская Мясная Компания - один из лидеров рынка поставок свежей Алтайской говядины, более 10...</td>\n",
              "      <td>говядина мякоть новосибирская мясная компания  один из лидеров рынка поставок свежей алтайской говядины более  лет ...</td>\n",
              "      <td>Говядина</td>\n",
              "    </tr>\n",
              "    <tr>\n",
              "      <th>1564</th>\n",
              "      <td>!!! Грудинка Св. Ивр   (дели)   248 р. На складе в  г. Наро-Фоминск  Грудинка св. ИВР (Дели) по 248 р.</td>\n",
              "      <td>грудинка св ивр дели  р на складе в г нарофоминск грудинка св ивр дели по  р</td>\n",
              "      <td>Свинина</td>\n",
              "    </tr>\n",
              "    <tr>\n",
              "      <th>1565</th>\n",
              "      <td>:) грудинка свин нк 162 р грудинка свин нк</td>\n",
              "      <td>грудинка свин нк  р грудинка свин нк</td>\n",
              "      <td>Свинина</td>\n",
              "    </tr>\n",
              "    <tr>\n",
              "      <th>5459</th>\n",
              "      <td>, коровы, охл 162.00 Говядина, полутуши, 1 категория, коровы, охл, Белоруссия, подвес, склад, от 16 тонн\\nб/н 162.00...</td>\n",
              "      <td>коровы охл  говядина полутуши  категория коровы охл белоруссия подвес склад от  тонн бн  руб  предоплата доставка в...</td>\n",
              "      <td>Говядина</td>\n",
              "    </tr>\n",
              "    <tr>\n",
              "      <th>7550</th>\n",
              "      <td>... машины ЦБ Продаю три машины ЦБ 1 сорт вес куры 1,7-2,2 кг. РБ .Приход на склад 37 неделя.Общий пакет.</td>\n",
              "      <td>машины цб продаю три машины цб  сорт вес куры  кг рб приход на склад  неделяобщий пакет</td>\n",
              "      <td>Кура</td>\n",
              "    </tr>\n",
              "    <tr>\n",
              "      <th>5399</th>\n",
              "      <td>охлажденное, 162.00 руб компания ООО “ МЖК ПРОМТОРГ”    реализует на постоянной основе мясо говядины в полутушах,95...</td>\n",
              "      <td>охлажденное  руб компания ооо  мжк промторг реализует на постоянной основе мясо говядины в полутушах корова охлажде...</td>\n",
              "      <td>Говядина</td>\n",
              "    </tr>\n",
              "    <tr>\n",
              "      <th>3381</th>\n",
              "      <td>2 сорт / ГОСТ / сухое мясо / 288 р Говядина 2 сорт, постность  80/20\\nСухое мясо, подходит под все виды переработки.</td>\n",
              "      <td>сорт  гост  сухое мясо   р говядина  сорт постность  сухое мясо подходит под все виды переработка</td>\n",
              "      <td>Говядина</td>\n",
              "    </tr>\n",
              "  </tbody>\n",
              "</table>\n",
              "</div>\n",
              "    <div class=\"colab-df-buttons\">\n",
              "\n",
              "  <div class=\"colab-df-container\">\n",
              "    <button class=\"colab-df-convert\" onclick=\"convertToInteractive('df-f72755d8-227a-460a-a7d9-dea8162dca8d')\"\n",
              "            title=\"Convert this dataframe to an interactive table.\"\n",
              "            style=\"display:none;\">\n",
              "\n",
              "  <svg xmlns=\"http://www.w3.org/2000/svg\" height=\"24px\" viewBox=\"0 -960 960 960\">\n",
              "    <path d=\"M120-120v-720h720v720H120Zm60-500h600v-160H180v160Zm220 220h160v-160H400v160Zm0 220h160v-160H400v160ZM180-400h160v-160H180v160Zm440 0h160v-160H620v160ZM180-180h160v-160H180v160Zm440 0h160v-160H620v160Z\"/>\n",
              "  </svg>\n",
              "    </button>\n",
              "\n",
              "  <style>\n",
              "    .colab-df-container {\n",
              "      display:flex;\n",
              "      gap: 12px;\n",
              "    }\n",
              "\n",
              "    .colab-df-convert {\n",
              "      background-color: #E8F0FE;\n",
              "      border: none;\n",
              "      border-radius: 50%;\n",
              "      cursor: pointer;\n",
              "      display: none;\n",
              "      fill: #1967D2;\n",
              "      height: 32px;\n",
              "      padding: 0 0 0 0;\n",
              "      width: 32px;\n",
              "    }\n",
              "\n",
              "    .colab-df-convert:hover {\n",
              "      background-color: #E2EBFA;\n",
              "      box-shadow: 0px 1px 2px rgba(60, 64, 67, 0.3), 0px 1px 3px 1px rgba(60, 64, 67, 0.15);\n",
              "      fill: #174EA6;\n",
              "    }\n",
              "\n",
              "    .colab-df-buttons div {\n",
              "      margin-bottom: 4px;\n",
              "    }\n",
              "\n",
              "    [theme=dark] .colab-df-convert {\n",
              "      background-color: #3B4455;\n",
              "      fill: #D2E3FC;\n",
              "    }\n",
              "\n",
              "    [theme=dark] .colab-df-convert:hover {\n",
              "      background-color: #434B5C;\n",
              "      box-shadow: 0px 1px 3px 1px rgba(0, 0, 0, 0.15);\n",
              "      filter: drop-shadow(0px 1px 2px rgba(0, 0, 0, 0.3));\n",
              "      fill: #FFFFFF;\n",
              "    }\n",
              "  </style>\n",
              "\n",
              "    <script>\n",
              "      const buttonEl =\n",
              "        document.querySelector('#df-f72755d8-227a-460a-a7d9-dea8162dca8d button.colab-df-convert');\n",
              "      buttonEl.style.display =\n",
              "        google.colab.kernel.accessAllowed ? 'block' : 'none';\n",
              "\n",
              "      async function convertToInteractive(key) {\n",
              "        const element = document.querySelector('#df-f72755d8-227a-460a-a7d9-dea8162dca8d');\n",
              "        const dataTable =\n",
              "          await google.colab.kernel.invokeFunction('convertToInteractive',\n",
              "                                                    [key], {});\n",
              "        if (!dataTable) return;\n",
              "\n",
              "        const docLinkHtml = 'Like what you see? Visit the ' +\n",
              "          '<a target=\"_blank\" href=https://colab.research.google.com/notebooks/data_table.ipynb>data table notebook</a>'\n",
              "          + ' to learn more about interactive tables.';\n",
              "        element.innerHTML = '';\n",
              "        dataTable['output_type'] = 'display_data';\n",
              "        await google.colab.output.renderOutput(dataTable, element);\n",
              "        const docLink = document.createElement('div');\n",
              "        docLink.innerHTML = docLinkHtml;\n",
              "        element.appendChild(docLink);\n",
              "      }\n",
              "    </script>\n",
              "  </div>\n",
              "\n",
              "\n",
              "<div id=\"df-8666cdaf-7b0d-4c37-9d7d-8e4a83a6083f\">\n",
              "  <button class=\"colab-df-quickchart\" onclick=\"quickchart('df-8666cdaf-7b0d-4c37-9d7d-8e4a83a6083f')\"\n",
              "            title=\"Suggest charts\"\n",
              "            style=\"display:none;\">\n",
              "\n",
              "<svg xmlns=\"http://www.w3.org/2000/svg\" height=\"24px\"viewBox=\"0 0 24 24\"\n",
              "     width=\"24px\">\n",
              "    <g>\n",
              "        <path d=\"M19 3H5c-1.1 0-2 .9-2 2v14c0 1.1.9 2 2 2h14c1.1 0 2-.9 2-2V5c0-1.1-.9-2-2-2zM9 17H7v-7h2v7zm4 0h-2V7h2v10zm4 0h-2v-4h2v4z\"/>\n",
              "    </g>\n",
              "</svg>\n",
              "  </button>\n",
              "\n",
              "<style>\n",
              "  .colab-df-quickchart {\n",
              "      --bg-color: #E8F0FE;\n",
              "      --fill-color: #1967D2;\n",
              "      --hover-bg-color: #E2EBFA;\n",
              "      --hover-fill-color: #174EA6;\n",
              "      --disabled-fill-color: #AAA;\n",
              "      --disabled-bg-color: #DDD;\n",
              "  }\n",
              "\n",
              "  [theme=dark] .colab-df-quickchart {\n",
              "      --bg-color: #3B4455;\n",
              "      --fill-color: #D2E3FC;\n",
              "      --hover-bg-color: #434B5C;\n",
              "      --hover-fill-color: #FFFFFF;\n",
              "      --disabled-bg-color: #3B4455;\n",
              "      --disabled-fill-color: #666;\n",
              "  }\n",
              "\n",
              "  .colab-df-quickchart {\n",
              "    background-color: var(--bg-color);\n",
              "    border: none;\n",
              "    border-radius: 50%;\n",
              "    cursor: pointer;\n",
              "    display: none;\n",
              "    fill: var(--fill-color);\n",
              "    height: 32px;\n",
              "    padding: 0;\n",
              "    width: 32px;\n",
              "  }\n",
              "\n",
              "  .colab-df-quickchart:hover {\n",
              "    background-color: var(--hover-bg-color);\n",
              "    box-shadow: 0 1px 2px rgba(60, 64, 67, 0.3), 0 1px 3px 1px rgba(60, 64, 67, 0.15);\n",
              "    fill: var(--button-hover-fill-color);\n",
              "  }\n",
              "\n",
              "  .colab-df-quickchart-complete:disabled,\n",
              "  .colab-df-quickchart-complete:disabled:hover {\n",
              "    background-color: var(--disabled-bg-color);\n",
              "    fill: var(--disabled-fill-color);\n",
              "    box-shadow: none;\n",
              "  }\n",
              "\n",
              "  .colab-df-spinner {\n",
              "    border: 2px solid var(--fill-color);\n",
              "    border-color: transparent;\n",
              "    border-bottom-color: var(--fill-color);\n",
              "    animation:\n",
              "      spin 1s steps(1) infinite;\n",
              "  }\n",
              "\n",
              "  @keyframes spin {\n",
              "    0% {\n",
              "      border-color: transparent;\n",
              "      border-bottom-color: var(--fill-color);\n",
              "      border-left-color: var(--fill-color);\n",
              "    }\n",
              "    20% {\n",
              "      border-color: transparent;\n",
              "      border-left-color: var(--fill-color);\n",
              "      border-top-color: var(--fill-color);\n",
              "    }\n",
              "    30% {\n",
              "      border-color: transparent;\n",
              "      border-left-color: var(--fill-color);\n",
              "      border-top-color: var(--fill-color);\n",
              "      border-right-color: var(--fill-color);\n",
              "    }\n",
              "    40% {\n",
              "      border-color: transparent;\n",
              "      border-right-color: var(--fill-color);\n",
              "      border-top-color: var(--fill-color);\n",
              "    }\n",
              "    60% {\n",
              "      border-color: transparent;\n",
              "      border-right-color: var(--fill-color);\n",
              "    }\n",
              "    80% {\n",
              "      border-color: transparent;\n",
              "      border-right-color: var(--fill-color);\n",
              "      border-bottom-color: var(--fill-color);\n",
              "    }\n",
              "    90% {\n",
              "      border-color: transparent;\n",
              "      border-bottom-color: var(--fill-color);\n",
              "    }\n",
              "  }\n",
              "</style>\n",
              "\n",
              "  <script>\n",
              "    async function quickchart(key) {\n",
              "      const quickchartButtonEl =\n",
              "        document.querySelector('#' + key + ' button');\n",
              "      quickchartButtonEl.disabled = true;  // To prevent multiple clicks.\n",
              "      quickchartButtonEl.classList.add('colab-df-spinner');\n",
              "      try {\n",
              "        const charts = await google.colab.kernel.invokeFunction(\n",
              "            'suggestCharts', [key], {});\n",
              "      } catch (error) {\n",
              "        console.error('Error during call to suggestCharts:', error);\n",
              "      }\n",
              "      quickchartButtonEl.classList.remove('colab-df-spinner');\n",
              "      quickchartButtonEl.classList.add('colab-df-quickchart-complete');\n",
              "    }\n",
              "    (() => {\n",
              "      let quickchartButtonEl =\n",
              "        document.querySelector('#df-8666cdaf-7b0d-4c37-9d7d-8e4a83a6083f button');\n",
              "      quickchartButtonEl.style.display =\n",
              "        google.colab.kernel.accessAllowed ? 'block' : 'none';\n",
              "    })();\n",
              "  </script>\n",
              "</div>\n",
              "    </div>\n",
              "  </div>\n"
            ],
            "application/vnd.google.colaboratory.intrinsic+json": {
              "type": "dataframe",
              "variable_name": "df",
              "summary": "{\n  \"name\": \"df\",\n  \"rows\": 11641,\n  \"fields\": [\n    {\n      \"column\": \"text\",\n      \"properties\": {\n        \"dtype\": \"string\",\n        \"num_unique_values\": 11641,\n        \"samples\": [\n          \"\\u041e\\u043a\\u043e\\u0440\\u043e\\u043a \\u0441\\u0432\\u0438\\u043d\\u043e\\u0439 \\u0431/\\u043a 240 \\u0440\\u0443\\u0431/\\u043a\\u0433 \\u041f\\u0440\\u043e\\u0434\\u0430\\u043c \\u043e\\u043a\\u043e\\u0440\\u043e\\u043a \\u0441\\u0432\\u0438\\u043d\\u043e\\u0439 \\u0431/\\u043a \\u0413\\u041e\\u0421\\u0422, \\u0442\\u0435\\u043a\\u0443\\u0449\\u0435\\u0439 \\u0432\\u044b\\u0440\\u0430\\u0431\\u043e\\u0442\\u043a\\u0438. \\u0412\\u044b\\u0440\\u0430\\u0431\\u043e\\u0442\\u0430\\u043d \\u0438\\u0437 \\u043e\\u0445\\u043b\\u0430\\u0436\\u0434\\u0435\\u043d\\u043d\\u043e\\u0433\\u043e \\u043c\\u044f\\u0441\\u0430 \\u0441\\u0432\\u0438\\u043d\\u0438\\u043d\\u044b 2 \\u043a\\u0430\\u0442\\u0435\\u0433\\u043e\\u0440\\u0438\\u0438. \\u041e\\u043a\\u043e\\u0440\\u043e\\u043a - \\u0441 \\u043c\\u044f\\u0441\\u043d\\u044b\\u043c \\u043e\\u0440\\u0435\\u0445\\u043e\\u043c \\u0431\\u0435\\u0437 \\u0433\\u043e\\u043b\\u044f\\u0448\\u043a\\u0438. \\u0426\\u0435\\u043d\\u0430 240 \\u0440\\u0443\\u0431/\\u043a\\u0433\",\n          \"\\u0411\\u044b\\u0447\\u0438\\u0439 \\u043a\\u043e\\u0440\\u0435\\u043d\\u044c / \\u043f\\u0435\\u043d\\u0438\\u0441 \\u041e\\u0440\\u0433\\u0430\\u043d\\u0438\\u0437\\u0430\\u0446\\u0438\\u044f \\u0437\\u0430\\u043a\\u0443\\u043f\\u0430\\u0435\\u0442 \\u043d\\u0430 \\u043f\\u043e\\u0441\\u0442\\u043e\\u044f\\u043d\\u043d\\u043e\\u0439 \\u043e\\u0441\\u043d\\u043e\\u0432\\u0435 \\u043f\\u0435\\u043d\\u0438\\u0441 \\u0431\\u044b\\u0447\\u0438\\u0439 \\u0441 \\u0434\\u043e\\u043a\\u0443\\u043c\\u0435\\u043d\\u0442\\u0430\\u043c\\u0438. \\u0412 \\u043b\\u044e\\u0431\\u043e\\u0439 \\u043e\\u0431\\u044a\\u0435\\u043c\\u0435.\",\n          \"\\u043f\\u0435\\u0447\\u0435\\u043d\\u044c \\u0446\\u0431 \\u0434\\u043b\\u044f \\u043f\\u0435\\u0440\\u0435\\u0440\\u0430\\u0431\\u043e\\u0442\\u043a\\u0438 \\u041a\\u0443\\u043f\\u043b\\u044e \\u043f\\u0435\\u0447\\u0435\\u043d\\u044c \\u0446\\u0431, \\u0437\\u0430\\u043c, \\u043c\\u043e\\u043d\\u043e\\u043b\\u0438\\u0442, \\u0434\\u043b\\u044f \\u043f\\u0435\\u0440\\u0435\\u0440\\u0430\\u0431\\u043e\\u0442\\u043a\\u0438, \\u0432\\u043e\\u0437\\u043c\\u043e\\u0436\\u0435\\u043d \\u0441\\u0430\\u043c\\u043e\\u0432\\u044b\\u0432\\u043e\\u0437 \\u043f\\u043e \\u0440\\u0435\\u0433\\u0438\\u043e\\u043d\\u0430\\u043c\"\n        ],\n        \"semantic_type\": \"\",\n        \"description\": \"\"\n      }\n    },\n    {\n      \"column\": \"tokens\",\n      \"properties\": {\n        \"dtype\": \"string\",\n        \"num_unique_values\": 11641,\n        \"samples\": [\n          \"\\u043e\\u043a\\u043e\\u0440\\u043e\\u043a \\u0441\\u0432\\u0438\\u043d\\u043e\\u0439 \\u0431\\u043a  \\u0440\\u0443\\u0431\\u043a\\u0433 \\u043f\\u0440\\u043e\\u0434\\u0430\\u043c \\u043e\\u043a\\u043e\\u0440\\u043e\\u043a \\u0441\\u0432\\u0438\\u043d\\u043e\\u0439 \\u0431\\u043a \\u0433\\u043e\\u0441\\u0442 \\u0442\\u0435\\u043a\\u0443\\u0449\\u0435\\u0439 \\u0432\\u044b\\u0440\\u0430\\u0431\\u043e\\u0442\\u043a\\u0438 \\u0432\\u044b\\u0440\\u0430\\u0431\\u043e\\u0442\\u0430\\u043d \\u0438\\u0437 \\u043e\\u0445\\u043b\\u0430\\u0436\\u0434\\u0435\\u043d\\u043d\\u043e\\u0433\\u043e \\u043c\\u044f\\u0441\\u0430 \\u0441\\u0432\\u0438\\u043d\\u0438\\u043d\\u044b  \\u043a\\u0430\\u0442\\u0435\\u0433\\u043e\\u0440\\u0438\\u0438 \\u043e\\u043a\\u043e\\u0440\\u043e\\u043a  \\u0441 \\u043c\\u044f\\u0441\\u043d\\u044b\\u043c \\u043e\\u0440\\u0435\\u0445\\u043e\\u043c \\u0431\\u0435\\u0437 \\u0433\\u043e\\u043b\\u044f\\u0448\\u043a\\u0438 \\u0446\\u0435\\u043d\\u0430  \\u0440\\u0443\\u0431\\u043a\\u0433\",\n          \"\\u0431\\u044b\\u0447\\u0438\\u0439 \\u043a\\u043e\\u0440\\u0435\\u043d\\u044c  \\u043f\\u0435\\u043d\\u0438\\u0441 \\u043e\\u0440\\u0433\\u0430\\u043d\\u0438\\u0437\\u0430\\u0446\\u0438\\u044f \\u0437\\u0430\\u043a\\u0443\\u043f\\u0430\\u0435\\u0442 \\u043d\\u0430 \\u043f\\u043e\\u0441\\u0442\\u043e\\u044f\\u043d\\u043d\\u043e\\u0439 \\u043e\\u0441\\u043d\\u043e\\u0432\\u0435 \\u043f\\u0435\\u043d\\u0438\\u0441 \\u0431\\u044b\\u0447\\u0438\\u0439 \\u0441 \\u0434\\u043e\\u043a\\u0443\\u043c\\u0435\\u043d\\u0442\\u0430\\u043c\\u0438 \\u0432 \\u043b\\u044e\\u0431\\u043e\\u0439 \\u043e\\u0431\\u044a\\u0451\\u043c\",\n          \"\\u043f\\u0435\\u0447\\u0435\\u043d\\u044c \\u0446\\u0431 \\u0434\\u043b\\u044f \\u043f\\u0435\\u0440\\u0435\\u0440\\u0430\\u0431\\u043e\\u0442\\u043a\\u0438 \\u043a\\u0443\\u043f\\u043b\\u044e \\u043f\\u0435\\u0447\\u0435\\u043d\\u044c \\u0446\\u0431 \\u0437\\u0430\\u043c \\u043c\\u043e\\u043d\\u043e\\u043b\\u0438\\u0442 \\u0434\\u043b\\u044f \\u043f\\u0435\\u0440\\u0435\\u0440\\u0430\\u0431\\u043e\\u0442\\u043a\\u0438 \\u0432\\u043e\\u0437\\u043c\\u043e\\u0436\\u0435\\u043d \\u0441\\u0430\\u043c\\u043e\\u0432\\u044b\\u0432\\u043e\\u0437 \\u043f\\u043e \\u0440\\u0435\\u0433\\u0438\\u043e\\u043d\"\n        ],\n        \"semantic_type\": \"\",\n        \"description\": \"\"\n      }\n    },\n    {\n      \"column\": \"mtype\",\n      \"properties\": {\n        \"dtype\": \"category\",\n        \"num_unique_values\": 6,\n        \"samples\": [\n          \"\\u0413\\u043e\\u0432\\u044f\\u0434\\u0438\\u043d\\u0430\",\n          \"\\u0421\\u0432\\u0438\\u043d\\u0438\\u043d\\u0430\",\n          \"\\u0418\\u043d\\u0434\\u0435\\u0439\\u043a\\u0430\"\n        ],\n        \"semantic_type\": \"\",\n        \"description\": \"\"\n      }\n    }\n  ]\n}"
            }
          },
          "metadata": {},
          "execution_count": 393
        }
      ]
    },
    {
      "cell_type": "markdown",
      "source": [
        "## Модели"
      ],
      "metadata": {
        "id": "_JMVALWMevaV"
      }
    },
    {
      "cell_type": "markdown",
      "source": [
        "### Naive Bayes Classifier"
      ],
      "metadata": {
        "id": "L6ey819WhcAV"
      }
    },
    {
      "cell_type": "code",
      "source": [
        "X = df['tokens']\n",
        "y = df['mtype']"
      ],
      "metadata": {
        "id": "EqktyiWRez39"
      },
      "execution_count": null,
      "outputs": []
    },
    {
      "cell_type": "code",
      "source": [
        "from sklearn.model_selection import train_test_split\n",
        "\n",
        "X_train, X_test, y_train, y_test = train_test_split(X, y, test_size=0.2, random_state = 42)"
      ],
      "metadata": {
        "id": "2M847mlSe0KA"
      },
      "execution_count": null,
      "outputs": []
    },
    {
      "cell_type": "code",
      "source": [
        "from sklearn.naive_bayes import MultinomialNB\n",
        "from sklearn.pipeline import Pipeline\n",
        "from sklearn.feature_extraction.text import TfidfTransformer\n",
        "from sklearn.feature_extraction.text import CountVectorizer"
      ],
      "metadata": {
        "id": "pMyTpOTbfSJ1"
      },
      "execution_count": null,
      "outputs": []
    },
    {
      "cell_type": "code",
      "source": [
        "nb = Pipeline([('vect', CountVectorizer()),\n",
        "               ('tfidf', TfidfTransformer()),\n",
        "               ('clf', MultinomialNB()),\n",
        "              ])"
      ],
      "metadata": {
        "id": "z6vfmwdGfSyN"
      },
      "execution_count": null,
      "outputs": []
    },
    {
      "cell_type": "code",
      "source": [
        "%%time\n",
        "nb.fit(X_train, y_train)"
      ],
      "metadata": {
        "colab": {
          "base_uri": "https://localhost:8080/",
          "height": 194
        },
        "id": "NLuaOSYufVkN",
        "outputId": "ac3b67d7-e9da-4501-f64b-260652b9179a"
      },
      "execution_count": null,
      "outputs": [
        {
          "output_type": "stream",
          "name": "stdout",
          "text": [
            "CPU times: user 438 ms, sys: 1.81 ms, total: 440 ms\n",
            "Wall time: 475 ms\n"
          ]
        },
        {
          "output_type": "execute_result",
          "data": {
            "text/plain": [
              "Pipeline(steps=[('vect', CountVectorizer()), ('tfidf', TfidfTransformer()),\n",
              "                ('clf', MultinomialNB())])"
            ],
            "text/html": [
              "<style>#sk-container-id-1 {color: black;background-color: white;}#sk-container-id-1 pre{padding: 0;}#sk-container-id-1 div.sk-toggleable {background-color: white;}#sk-container-id-1 label.sk-toggleable__label {cursor: pointer;display: block;width: 100%;margin-bottom: 0;padding: 0.3em;box-sizing: border-box;text-align: center;}#sk-container-id-1 label.sk-toggleable__label-arrow:before {content: \"▸\";float: left;margin-right: 0.25em;color: #696969;}#sk-container-id-1 label.sk-toggleable__label-arrow:hover:before {color: black;}#sk-container-id-1 div.sk-estimator:hover label.sk-toggleable__label-arrow:before {color: black;}#sk-container-id-1 div.sk-toggleable__content {max-height: 0;max-width: 0;overflow: hidden;text-align: left;background-color: #f0f8ff;}#sk-container-id-1 div.sk-toggleable__content pre {margin: 0.2em;color: black;border-radius: 0.25em;background-color: #f0f8ff;}#sk-container-id-1 input.sk-toggleable__control:checked~div.sk-toggleable__content {max-height: 200px;max-width: 100%;overflow: auto;}#sk-container-id-1 input.sk-toggleable__control:checked~label.sk-toggleable__label-arrow:before {content: \"▾\";}#sk-container-id-1 div.sk-estimator input.sk-toggleable__control:checked~label.sk-toggleable__label {background-color: #d4ebff;}#sk-container-id-1 div.sk-label input.sk-toggleable__control:checked~label.sk-toggleable__label {background-color: #d4ebff;}#sk-container-id-1 input.sk-hidden--visually {border: 0;clip: rect(1px 1px 1px 1px);clip: rect(1px, 1px, 1px, 1px);height: 1px;margin: -1px;overflow: hidden;padding: 0;position: absolute;width: 1px;}#sk-container-id-1 div.sk-estimator {font-family: monospace;background-color: #f0f8ff;border: 1px dotted black;border-radius: 0.25em;box-sizing: border-box;margin-bottom: 0.5em;}#sk-container-id-1 div.sk-estimator:hover {background-color: #d4ebff;}#sk-container-id-1 div.sk-parallel-item::after {content: \"\";width: 100%;border-bottom: 1px solid gray;flex-grow: 1;}#sk-container-id-1 div.sk-label:hover label.sk-toggleable__label {background-color: #d4ebff;}#sk-container-id-1 div.sk-serial::before {content: \"\";position: absolute;border-left: 1px solid gray;box-sizing: border-box;top: 0;bottom: 0;left: 50%;z-index: 0;}#sk-container-id-1 div.sk-serial {display: flex;flex-direction: column;align-items: center;background-color: white;padding-right: 0.2em;padding-left: 0.2em;position: relative;}#sk-container-id-1 div.sk-item {position: relative;z-index: 1;}#sk-container-id-1 div.sk-parallel {display: flex;align-items: stretch;justify-content: center;background-color: white;position: relative;}#sk-container-id-1 div.sk-item::before, #sk-container-id-1 div.sk-parallel-item::before {content: \"\";position: absolute;border-left: 1px solid gray;box-sizing: border-box;top: 0;bottom: 0;left: 50%;z-index: -1;}#sk-container-id-1 div.sk-parallel-item {display: flex;flex-direction: column;z-index: 1;position: relative;background-color: white;}#sk-container-id-1 div.sk-parallel-item:first-child::after {align-self: flex-end;width: 50%;}#sk-container-id-1 div.sk-parallel-item:last-child::after {align-self: flex-start;width: 50%;}#sk-container-id-1 div.sk-parallel-item:only-child::after {width: 0;}#sk-container-id-1 div.sk-dashed-wrapped {border: 1px dashed gray;margin: 0 0.4em 0.5em 0.4em;box-sizing: border-box;padding-bottom: 0.4em;background-color: white;}#sk-container-id-1 div.sk-label label {font-family: monospace;font-weight: bold;display: inline-block;line-height: 1.2em;}#sk-container-id-1 div.sk-label-container {text-align: center;}#sk-container-id-1 div.sk-container {/* jupyter's `normalize.less` sets `[hidden] { display: none; }` but bootstrap.min.css set `[hidden] { display: none !important; }` so we also need the `!important` here to be able to override the default hidden behavior on the sphinx rendered scikit-learn.org. See: https://github.com/scikit-learn/scikit-learn/issues/21755 */display: inline-block !important;position: relative;}#sk-container-id-1 div.sk-text-repr-fallback {display: none;}</style><div id=\"sk-container-id-1\" class=\"sk-top-container\"><div class=\"sk-text-repr-fallback\"><pre>Pipeline(steps=[(&#x27;vect&#x27;, CountVectorizer()), (&#x27;tfidf&#x27;, TfidfTransformer()),\n",
              "                (&#x27;clf&#x27;, MultinomialNB())])</pre><b>In a Jupyter environment, please rerun this cell to show the HTML representation or trust the notebook. <br />On GitHub, the HTML representation is unable to render, please try loading this page with nbviewer.org.</b></div><div class=\"sk-container\" hidden><div class=\"sk-item sk-dashed-wrapped\"><div class=\"sk-label-container\"><div class=\"sk-label sk-toggleable\"><input class=\"sk-toggleable__control sk-hidden--visually\" id=\"sk-estimator-id-1\" type=\"checkbox\" ><label for=\"sk-estimator-id-1\" class=\"sk-toggleable__label sk-toggleable__label-arrow\">Pipeline</label><div class=\"sk-toggleable__content\"><pre>Pipeline(steps=[(&#x27;vect&#x27;, CountVectorizer()), (&#x27;tfidf&#x27;, TfidfTransformer()),\n",
              "                (&#x27;clf&#x27;, MultinomialNB())])</pre></div></div></div><div class=\"sk-serial\"><div class=\"sk-item\"><div class=\"sk-estimator sk-toggleable\"><input class=\"sk-toggleable__control sk-hidden--visually\" id=\"sk-estimator-id-2\" type=\"checkbox\" ><label for=\"sk-estimator-id-2\" class=\"sk-toggleable__label sk-toggleable__label-arrow\">CountVectorizer</label><div class=\"sk-toggleable__content\"><pre>CountVectorizer()</pre></div></div></div><div class=\"sk-item\"><div class=\"sk-estimator sk-toggleable\"><input class=\"sk-toggleable__control sk-hidden--visually\" id=\"sk-estimator-id-3\" type=\"checkbox\" ><label for=\"sk-estimator-id-3\" class=\"sk-toggleable__label sk-toggleable__label-arrow\">TfidfTransformer</label><div class=\"sk-toggleable__content\"><pre>TfidfTransformer()</pre></div></div></div><div class=\"sk-item\"><div class=\"sk-estimator sk-toggleable\"><input class=\"sk-toggleable__control sk-hidden--visually\" id=\"sk-estimator-id-4\" type=\"checkbox\" ><label for=\"sk-estimator-id-4\" class=\"sk-toggleable__label sk-toggleable__label-arrow\">MultinomialNB</label><div class=\"sk-toggleable__content\"><pre>MultinomialNB()</pre></div></div></div></div></div></div></div>"
            ]
          },
          "metadata": {},
          "execution_count": 400
        }
      ]
    },
    {
      "cell_type": "code",
      "source": [
        "%%time\n",
        "from sklearn.metrics import classification_report\n",
        "y_pred = nb.predict(X_test)"
      ],
      "metadata": {
        "colab": {
          "base_uri": "https://localhost:8080/"
        },
        "id": "6q0U7DW0fXCW",
        "outputId": "aee83f00-4158-46cf-afbd-9fa1c09b7fc1"
      },
      "execution_count": null,
      "outputs": [
        {
          "output_type": "stream",
          "name": "stdout",
          "text": [
            "CPU times: user 55.8 ms, sys: 0 ns, total: 55.8 ms\n",
            "Wall time: 56.3 ms\n"
          ]
        }
      ]
    },
    {
      "cell_type": "code",
      "source": [
        "y_pred[0]"
      ],
      "metadata": {
        "colab": {
          "base_uri": "https://localhost:8080/",
          "height": 36
        },
        "id": "PTqjtDZJfZ09",
        "outputId": "aa9f4eb6-ccab-4296-c9ec-bcfcd00efbe2"
      },
      "execution_count": null,
      "outputs": [
        {
          "output_type": "execute_result",
          "data": {
            "text/plain": [
              "'Свинина'"
            ],
            "application/vnd.google.colaboratory.intrinsic+json": {
              "type": "string"
            }
          },
          "metadata": {},
          "execution_count": 402
        }
      ]
    },
    {
      "cell_type": "code",
      "source": [
        "print(X_test.iloc[0], y_test.iloc[0], y_pred[0])"
      ],
      "metadata": {
        "colab": {
          "base_uri": "https://localhost:8080/"
        },
        "id": "vuVZAbsXfa2m",
        "outputId": "6a1b1f59-c373-4ea7-aa19-cfcedb1749ba"
      },
      "execution_count": null,
      "outputs": [
        {
          "output_type": "stream",
          "name": "stdout",
          "text": [
            "окорок свиной бк  рубкг продам окорок свиной бк гост текущей выработки выработан из охлажденного мяса свинины  категории окорок  с мясным орехом без голяшки цена  рубкг Свинина Свинина\n"
          ]
        }
      ]
    },
    {
      "cell_type": "code",
      "source": [
        "from sklearn.metrics import accuracy_score\n",
        "\n",
        "print('accuracy %s' % accuracy_score(y_pred, y_test))\n",
        "print(classification_report(y_test, y_pred, target_names=my_tags))"
      ],
      "metadata": {
        "colab": {
          "base_uri": "https://localhost:8080/"
        },
        "id": "HsDoBrOpgYm1",
        "outputId": "f57a8238-2dd2-4072-b9ca-0aa93496d63f"
      },
      "execution_count": null,
      "outputs": [
        {
          "output_type": "stream",
          "name": "stdout",
          "text": [
            "accuracy 0.8063546586517819\n",
            "              precision    recall  f1-score   support\n",
            "\n",
            "    Баранина       0.94      0.15      0.26       115\n",
            "     Индейка       0.77      1.00      0.87       981\n",
            "    Говядина       0.99      0.51      0.67       136\n",
            "     Свинина       0.63      0.80      0.71       295\n",
            "        Кура       0.97      0.89      0.93       616\n",
            "    Цыпленок       1.00      0.15      0.26       186\n",
            "\n",
            "    accuracy                           0.81      2329\n",
            "   macro avg       0.88      0.58      0.62      2329\n",
            "weighted avg       0.84      0.81      0.77      2329\n",
            "\n"
          ]
        }
      ]
    },
    {
      "cell_type": "markdown",
      "source": [
        "### Linear Support Vector Machine"
      ],
      "metadata": {
        "id": "ibLVi1fXhd_d"
      }
    },
    {
      "cell_type": "code",
      "source": [
        "from sklearn.linear_model import SGDClassifier\n",
        "\n",
        "sgd = Pipeline([('vect', CountVectorizer()),\n",
        "                ('tfidf', TfidfTransformer()),\n",
        "                ('clf', SGDClassifier(loss='hinge', penalty='l2',alpha=1e-3, random_state=42, max_iter=5, tol=None)),\n",
        "               ])"
      ],
      "metadata": {
        "id": "5h_MP949hgL9"
      },
      "execution_count": null,
      "outputs": []
    },
    {
      "cell_type": "code",
      "source": [
        "%%time\n",
        "sgd.fit(X_train, y_train)"
      ],
      "metadata": {
        "colab": {
          "base_uri": "https://localhost:8080/",
          "height": 194
        },
        "id": "wyrHwu2Yie9V",
        "outputId": "4dd0dd39-264b-42c2-f82f-fd8d5882fc65"
      },
      "execution_count": null,
      "outputs": [
        {
          "output_type": "stream",
          "name": "stdout",
          "text": [
            "CPU times: user 508 ms, sys: 56.1 ms, total: 564 ms\n",
            "Wall time: 1.02 s\n"
          ]
        },
        {
          "output_type": "execute_result",
          "data": {
            "text/plain": [
              "Pipeline(steps=[('vect', CountVectorizer()), ('tfidf', TfidfTransformer()),\n",
              "                ('clf',\n",
              "                 SGDClassifier(alpha=0.001, max_iter=5, random_state=42,\n",
              "                               tol=None))])"
            ],
            "text/html": [
              "<style>#sk-container-id-2 {color: black;background-color: white;}#sk-container-id-2 pre{padding: 0;}#sk-container-id-2 div.sk-toggleable {background-color: white;}#sk-container-id-2 label.sk-toggleable__label {cursor: pointer;display: block;width: 100%;margin-bottom: 0;padding: 0.3em;box-sizing: border-box;text-align: center;}#sk-container-id-2 label.sk-toggleable__label-arrow:before {content: \"▸\";float: left;margin-right: 0.25em;color: #696969;}#sk-container-id-2 label.sk-toggleable__label-arrow:hover:before {color: black;}#sk-container-id-2 div.sk-estimator:hover label.sk-toggleable__label-arrow:before {color: black;}#sk-container-id-2 div.sk-toggleable__content {max-height: 0;max-width: 0;overflow: hidden;text-align: left;background-color: #f0f8ff;}#sk-container-id-2 div.sk-toggleable__content pre {margin: 0.2em;color: black;border-radius: 0.25em;background-color: #f0f8ff;}#sk-container-id-2 input.sk-toggleable__control:checked~div.sk-toggleable__content {max-height: 200px;max-width: 100%;overflow: auto;}#sk-container-id-2 input.sk-toggleable__control:checked~label.sk-toggleable__label-arrow:before {content: \"▾\";}#sk-container-id-2 div.sk-estimator input.sk-toggleable__control:checked~label.sk-toggleable__label {background-color: #d4ebff;}#sk-container-id-2 div.sk-label input.sk-toggleable__control:checked~label.sk-toggleable__label {background-color: #d4ebff;}#sk-container-id-2 input.sk-hidden--visually {border: 0;clip: rect(1px 1px 1px 1px);clip: rect(1px, 1px, 1px, 1px);height: 1px;margin: -1px;overflow: hidden;padding: 0;position: absolute;width: 1px;}#sk-container-id-2 div.sk-estimator {font-family: monospace;background-color: #f0f8ff;border: 1px dotted black;border-radius: 0.25em;box-sizing: border-box;margin-bottom: 0.5em;}#sk-container-id-2 div.sk-estimator:hover {background-color: #d4ebff;}#sk-container-id-2 div.sk-parallel-item::after {content: \"\";width: 100%;border-bottom: 1px solid gray;flex-grow: 1;}#sk-container-id-2 div.sk-label:hover label.sk-toggleable__label {background-color: #d4ebff;}#sk-container-id-2 div.sk-serial::before {content: \"\";position: absolute;border-left: 1px solid gray;box-sizing: border-box;top: 0;bottom: 0;left: 50%;z-index: 0;}#sk-container-id-2 div.sk-serial {display: flex;flex-direction: column;align-items: center;background-color: white;padding-right: 0.2em;padding-left: 0.2em;position: relative;}#sk-container-id-2 div.sk-item {position: relative;z-index: 1;}#sk-container-id-2 div.sk-parallel {display: flex;align-items: stretch;justify-content: center;background-color: white;position: relative;}#sk-container-id-2 div.sk-item::before, #sk-container-id-2 div.sk-parallel-item::before {content: \"\";position: absolute;border-left: 1px solid gray;box-sizing: border-box;top: 0;bottom: 0;left: 50%;z-index: -1;}#sk-container-id-2 div.sk-parallel-item {display: flex;flex-direction: column;z-index: 1;position: relative;background-color: white;}#sk-container-id-2 div.sk-parallel-item:first-child::after {align-self: flex-end;width: 50%;}#sk-container-id-2 div.sk-parallel-item:last-child::after {align-self: flex-start;width: 50%;}#sk-container-id-2 div.sk-parallel-item:only-child::after {width: 0;}#sk-container-id-2 div.sk-dashed-wrapped {border: 1px dashed gray;margin: 0 0.4em 0.5em 0.4em;box-sizing: border-box;padding-bottom: 0.4em;background-color: white;}#sk-container-id-2 div.sk-label label {font-family: monospace;font-weight: bold;display: inline-block;line-height: 1.2em;}#sk-container-id-2 div.sk-label-container {text-align: center;}#sk-container-id-2 div.sk-container {/* jupyter's `normalize.less` sets `[hidden] { display: none; }` but bootstrap.min.css set `[hidden] { display: none !important; }` so we also need the `!important` here to be able to override the default hidden behavior on the sphinx rendered scikit-learn.org. See: https://github.com/scikit-learn/scikit-learn/issues/21755 */display: inline-block !important;position: relative;}#sk-container-id-2 div.sk-text-repr-fallback {display: none;}</style><div id=\"sk-container-id-2\" class=\"sk-top-container\"><div class=\"sk-text-repr-fallback\"><pre>Pipeline(steps=[(&#x27;vect&#x27;, CountVectorizer()), (&#x27;tfidf&#x27;, TfidfTransformer()),\n",
              "                (&#x27;clf&#x27;,\n",
              "                 SGDClassifier(alpha=0.001, max_iter=5, random_state=42,\n",
              "                               tol=None))])</pre><b>In a Jupyter environment, please rerun this cell to show the HTML representation or trust the notebook. <br />On GitHub, the HTML representation is unable to render, please try loading this page with nbviewer.org.</b></div><div class=\"sk-container\" hidden><div class=\"sk-item sk-dashed-wrapped\"><div class=\"sk-label-container\"><div class=\"sk-label sk-toggleable\"><input class=\"sk-toggleable__control sk-hidden--visually\" id=\"sk-estimator-id-5\" type=\"checkbox\" ><label for=\"sk-estimator-id-5\" class=\"sk-toggleable__label sk-toggleable__label-arrow\">Pipeline</label><div class=\"sk-toggleable__content\"><pre>Pipeline(steps=[(&#x27;vect&#x27;, CountVectorizer()), (&#x27;tfidf&#x27;, TfidfTransformer()),\n",
              "                (&#x27;clf&#x27;,\n",
              "                 SGDClassifier(alpha=0.001, max_iter=5, random_state=42,\n",
              "                               tol=None))])</pre></div></div></div><div class=\"sk-serial\"><div class=\"sk-item\"><div class=\"sk-estimator sk-toggleable\"><input class=\"sk-toggleable__control sk-hidden--visually\" id=\"sk-estimator-id-6\" type=\"checkbox\" ><label for=\"sk-estimator-id-6\" class=\"sk-toggleable__label sk-toggleable__label-arrow\">CountVectorizer</label><div class=\"sk-toggleable__content\"><pre>CountVectorizer()</pre></div></div></div><div class=\"sk-item\"><div class=\"sk-estimator sk-toggleable\"><input class=\"sk-toggleable__control sk-hidden--visually\" id=\"sk-estimator-id-7\" type=\"checkbox\" ><label for=\"sk-estimator-id-7\" class=\"sk-toggleable__label sk-toggleable__label-arrow\">TfidfTransformer</label><div class=\"sk-toggleable__content\"><pre>TfidfTransformer()</pre></div></div></div><div class=\"sk-item\"><div class=\"sk-estimator sk-toggleable\"><input class=\"sk-toggleable__control sk-hidden--visually\" id=\"sk-estimator-id-8\" type=\"checkbox\" ><label for=\"sk-estimator-id-8\" class=\"sk-toggleable__label sk-toggleable__label-arrow\">SGDClassifier</label><div class=\"sk-toggleable__content\"><pre>SGDClassifier(alpha=0.001, max_iter=5, random_state=42, tol=None)</pre></div></div></div></div></div></div></div>"
            ]
          },
          "metadata": {},
          "execution_count": 418
        }
      ]
    },
    {
      "cell_type": "code",
      "source": [
        "%%time\n",
        "y_pred = sgd.predict(X_test)"
      ],
      "metadata": {
        "colab": {
          "base_uri": "https://localhost:8080/"
        },
        "id": "KwJaLfRViges",
        "outputId": "1868e203-c7bd-4924-f886-4ee38cee5185"
      },
      "execution_count": null,
      "outputs": [
        {
          "output_type": "stream",
          "name": "stdout",
          "text": [
            "CPU times: user 95.4 ms, sys: 875 µs, total: 96.2 ms\n",
            "Wall time: 119 ms\n"
          ]
        }
      ]
    },
    {
      "cell_type": "code",
      "source": [
        "print('accuracy %s' % accuracy_score(y_pred, y_test))\n",
        "print(classification_report(y_test, y_pred,target_names=my_tags))"
      ],
      "metadata": {
        "colab": {
          "base_uri": "https://localhost:8080/"
        },
        "id": "fs53f4pGiiwF",
        "outputId": "7e46ef59-6641-47d2-ee3b-1d6f0886cb87"
      },
      "execution_count": null,
      "outputs": [
        {
          "output_type": "stream",
          "name": "stdout",
          "text": [
            "accuracy 0.9330184628595964\n",
            "              precision    recall  f1-score   support\n",
            "\n",
            "    Баранина       0.99      0.93      0.96       115\n",
            "     Индейка       0.96      1.00      0.98       981\n",
            "    Говядина       0.98      0.95      0.97       136\n",
            "     Свинина       0.80      0.79      0.80       295\n",
            "        Кура       0.99      0.98      0.99       616\n",
            "    Цыпленок       0.72      0.65      0.69       186\n",
            "\n",
            "    accuracy                           0.93      2329\n",
            "   macro avg       0.91      0.88      0.90      2329\n",
            "weighted avg       0.93      0.93      0.93      2329\n",
            "\n"
          ]
        }
      ]
    },
    {
      "cell_type": "markdown",
      "source": [
        "### Logistic Regression"
      ],
      "metadata": {
        "id": "5O3TLNE3iwgF"
      }
    },
    {
      "cell_type": "code",
      "source": [
        "from sklearn.linear_model import LogisticRegression\n",
        "\n",
        "logreg = Pipeline([('vect', CountVectorizer()),\n",
        "                ('tfidf', TfidfTransformer()),\n",
        "                ('clf', LogisticRegression(n_jobs=1, C=1e5)),\n",
        "               ])"
      ],
      "metadata": {
        "id": "Grxqc4JpiyJF"
      },
      "execution_count": null,
      "outputs": []
    },
    {
      "cell_type": "code",
      "source": [
        "%%time\n",
        "logreg.fit(X_train, y_train)"
      ],
      "metadata": {
        "colab": {
          "base_uri": "https://localhost:8080/",
          "height": 194
        },
        "id": "nu0jrWNyizaM",
        "outputId": "89a39b0e-afef-4c58-d719-0435b31c1482"
      },
      "execution_count": null,
      "outputs": [
        {
          "output_type": "stream",
          "name": "stdout",
          "text": [
            "CPU times: user 3.32 s, sys: 3.88 s, total: 7.2 s\n",
            "Wall time: 5.21 s\n"
          ]
        },
        {
          "output_type": "execute_result",
          "data": {
            "text/plain": [
              "Pipeline(steps=[('vect', CountVectorizer()), ('tfidf', TfidfTransformer()),\n",
              "                ('clf', LogisticRegression(C=100000.0, n_jobs=1))])"
            ],
            "text/html": [
              "<style>#sk-container-id-3 {color: black;background-color: white;}#sk-container-id-3 pre{padding: 0;}#sk-container-id-3 div.sk-toggleable {background-color: white;}#sk-container-id-3 label.sk-toggleable__label {cursor: pointer;display: block;width: 100%;margin-bottom: 0;padding: 0.3em;box-sizing: border-box;text-align: center;}#sk-container-id-3 label.sk-toggleable__label-arrow:before {content: \"▸\";float: left;margin-right: 0.25em;color: #696969;}#sk-container-id-3 label.sk-toggleable__label-arrow:hover:before {color: black;}#sk-container-id-3 div.sk-estimator:hover label.sk-toggleable__label-arrow:before {color: black;}#sk-container-id-3 div.sk-toggleable__content {max-height: 0;max-width: 0;overflow: hidden;text-align: left;background-color: #f0f8ff;}#sk-container-id-3 div.sk-toggleable__content pre {margin: 0.2em;color: black;border-radius: 0.25em;background-color: #f0f8ff;}#sk-container-id-3 input.sk-toggleable__control:checked~div.sk-toggleable__content {max-height: 200px;max-width: 100%;overflow: auto;}#sk-container-id-3 input.sk-toggleable__control:checked~label.sk-toggleable__label-arrow:before {content: \"▾\";}#sk-container-id-3 div.sk-estimator input.sk-toggleable__control:checked~label.sk-toggleable__label {background-color: #d4ebff;}#sk-container-id-3 div.sk-label input.sk-toggleable__control:checked~label.sk-toggleable__label {background-color: #d4ebff;}#sk-container-id-3 input.sk-hidden--visually {border: 0;clip: rect(1px 1px 1px 1px);clip: rect(1px, 1px, 1px, 1px);height: 1px;margin: -1px;overflow: hidden;padding: 0;position: absolute;width: 1px;}#sk-container-id-3 div.sk-estimator {font-family: monospace;background-color: #f0f8ff;border: 1px dotted black;border-radius: 0.25em;box-sizing: border-box;margin-bottom: 0.5em;}#sk-container-id-3 div.sk-estimator:hover {background-color: #d4ebff;}#sk-container-id-3 div.sk-parallel-item::after {content: \"\";width: 100%;border-bottom: 1px solid gray;flex-grow: 1;}#sk-container-id-3 div.sk-label:hover label.sk-toggleable__label {background-color: #d4ebff;}#sk-container-id-3 div.sk-serial::before {content: \"\";position: absolute;border-left: 1px solid gray;box-sizing: border-box;top: 0;bottom: 0;left: 50%;z-index: 0;}#sk-container-id-3 div.sk-serial {display: flex;flex-direction: column;align-items: center;background-color: white;padding-right: 0.2em;padding-left: 0.2em;position: relative;}#sk-container-id-3 div.sk-item {position: relative;z-index: 1;}#sk-container-id-3 div.sk-parallel {display: flex;align-items: stretch;justify-content: center;background-color: white;position: relative;}#sk-container-id-3 div.sk-item::before, #sk-container-id-3 div.sk-parallel-item::before {content: \"\";position: absolute;border-left: 1px solid gray;box-sizing: border-box;top: 0;bottom: 0;left: 50%;z-index: -1;}#sk-container-id-3 div.sk-parallel-item {display: flex;flex-direction: column;z-index: 1;position: relative;background-color: white;}#sk-container-id-3 div.sk-parallel-item:first-child::after {align-self: flex-end;width: 50%;}#sk-container-id-3 div.sk-parallel-item:last-child::after {align-self: flex-start;width: 50%;}#sk-container-id-3 div.sk-parallel-item:only-child::after {width: 0;}#sk-container-id-3 div.sk-dashed-wrapped {border: 1px dashed gray;margin: 0 0.4em 0.5em 0.4em;box-sizing: border-box;padding-bottom: 0.4em;background-color: white;}#sk-container-id-3 div.sk-label label {font-family: monospace;font-weight: bold;display: inline-block;line-height: 1.2em;}#sk-container-id-3 div.sk-label-container {text-align: center;}#sk-container-id-3 div.sk-container {/* jupyter's `normalize.less` sets `[hidden] { display: none; }` but bootstrap.min.css set `[hidden] { display: none !important; }` so we also need the `!important` here to be able to override the default hidden behavior on the sphinx rendered scikit-learn.org. See: https://github.com/scikit-learn/scikit-learn/issues/21755 */display: inline-block !important;position: relative;}#sk-container-id-3 div.sk-text-repr-fallback {display: none;}</style><div id=\"sk-container-id-3\" class=\"sk-top-container\"><div class=\"sk-text-repr-fallback\"><pre>Pipeline(steps=[(&#x27;vect&#x27;, CountVectorizer()), (&#x27;tfidf&#x27;, TfidfTransformer()),\n",
              "                (&#x27;clf&#x27;, LogisticRegression(C=100000.0, n_jobs=1))])</pre><b>In a Jupyter environment, please rerun this cell to show the HTML representation or trust the notebook. <br />On GitHub, the HTML representation is unable to render, please try loading this page with nbviewer.org.</b></div><div class=\"sk-container\" hidden><div class=\"sk-item sk-dashed-wrapped\"><div class=\"sk-label-container\"><div class=\"sk-label sk-toggleable\"><input class=\"sk-toggleable__control sk-hidden--visually\" id=\"sk-estimator-id-9\" type=\"checkbox\" ><label for=\"sk-estimator-id-9\" class=\"sk-toggleable__label sk-toggleable__label-arrow\">Pipeline</label><div class=\"sk-toggleable__content\"><pre>Pipeline(steps=[(&#x27;vect&#x27;, CountVectorizer()), (&#x27;tfidf&#x27;, TfidfTransformer()),\n",
              "                (&#x27;clf&#x27;, LogisticRegression(C=100000.0, n_jobs=1))])</pre></div></div></div><div class=\"sk-serial\"><div class=\"sk-item\"><div class=\"sk-estimator sk-toggleable\"><input class=\"sk-toggleable__control sk-hidden--visually\" id=\"sk-estimator-id-10\" type=\"checkbox\" ><label for=\"sk-estimator-id-10\" class=\"sk-toggleable__label sk-toggleable__label-arrow\">CountVectorizer</label><div class=\"sk-toggleable__content\"><pre>CountVectorizer()</pre></div></div></div><div class=\"sk-item\"><div class=\"sk-estimator sk-toggleable\"><input class=\"sk-toggleable__control sk-hidden--visually\" id=\"sk-estimator-id-11\" type=\"checkbox\" ><label for=\"sk-estimator-id-11\" class=\"sk-toggleable__label sk-toggleable__label-arrow\">TfidfTransformer</label><div class=\"sk-toggleable__content\"><pre>TfidfTransformer()</pre></div></div></div><div class=\"sk-item\"><div class=\"sk-estimator sk-toggleable\"><input class=\"sk-toggleable__control sk-hidden--visually\" id=\"sk-estimator-id-12\" type=\"checkbox\" ><label for=\"sk-estimator-id-12\" class=\"sk-toggleable__label sk-toggleable__label-arrow\">LogisticRegression</label><div class=\"sk-toggleable__content\"><pre>LogisticRegression(C=100000.0, n_jobs=1)</pre></div></div></div></div></div></div></div>"
            ]
          },
          "metadata": {},
          "execution_count": 423
        }
      ]
    },
    {
      "cell_type": "code",
      "source": [
        "%%time\n",
        "y_pred = logreg.predict(X_test)"
      ],
      "metadata": {
        "colab": {
          "base_uri": "https://localhost:8080/"
        },
        "id": "kxrEMUUYi0nk",
        "outputId": "9067a0e4-3a63-4720-c4f2-32db2fc457fb"
      },
      "execution_count": null,
      "outputs": [
        {
          "output_type": "stream",
          "name": "stdout",
          "text": [
            "CPU times: user 103 ms, sys: 19.2 ms, total: 122 ms\n",
            "Wall time: 123 ms\n"
          ]
        }
      ]
    },
    {
      "cell_type": "code",
      "source": [
        "print('accuracy %s' % accuracy_score(y_pred, y_test))\n",
        "print(classification_report(y_test, y_pred, target_names=my_tags))"
      ],
      "metadata": {
        "colab": {
          "base_uri": "https://localhost:8080/"
        },
        "id": "G8U9dBrXi3AO",
        "outputId": "bd74bbf7-c7ce-4daa-e1ba-c48106510668"
      },
      "execution_count": null,
      "outputs": [
        {
          "output_type": "stream",
          "name": "stdout",
          "text": [
            "accuracy 0.918419922713611\n",
            "              precision    recall  f1-score   support\n",
            "\n",
            "    Баранина       0.96      0.94      0.95       115\n",
            "     Индейка       0.98      0.99      0.98       981\n",
            "    Говядина       0.98      0.96      0.97       136\n",
            "     Свинина       0.73      0.77      0.75       295\n",
            "        Кура       0.98      0.97      0.98       616\n",
            "    Цыпленок       0.62      0.58      0.60       186\n",
            "\n",
            "    accuracy                           0.92      2329\n",
            "   macro avg       0.88      0.87      0.87      2329\n",
            "weighted avg       0.92      0.92      0.92      2329\n",
            "\n"
          ]
        }
      ]
    },
    {
      "cell_type": "markdown",
      "source": [
        "**Вывод по моделям: метод опорных векторов показал наиболее высокие оценки качества работы модели.**"
      ],
      "metadata": {
        "id": "gpKSDTo-kNLt"
      }
    },
    {
      "cell_type": "markdown",
      "source": [
        "## Проверка на примерах"
      ],
      "metadata": {
        "id": "1c2g0Jg0jDZk"
      }
    },
    {
      "cell_type": "code",
      "source": [
        "sgd.predict(['Говядина блочная 2 сорт в наличии ООО \"АгроСоюз\" реализует блочную говядину 2 сорт (80/20)'])"
      ],
      "metadata": {
        "colab": {
          "base_uri": "https://localhost:8080/"
        },
        "id": "z714RKVfjFvN",
        "outputId": "d29a92cc-82da-4d3f-b7d2-499a64ddc634"
      },
      "execution_count": null,
      "outputs": [
        {
          "output_type": "execute_result",
          "data": {
            "text/plain": [
              "array(['Говядина'], dtype='<U8')"
            ]
          },
          "metadata": {},
          "execution_count": 426
        }
      ]
    },
    {
      "cell_type": "code",
      "source": [
        "sgd.predict(['Свободный объем 8 тонн Самовывоз или доставка. Все подробности по телефону.'])"
      ],
      "metadata": {
        "colab": {
          "base_uri": "https://localhost:8080/"
        },
        "id": "TGUulbJljif9",
        "outputId": "4ae3b963-9dc2-483b-fda1-e4389ccf9fc0"
      },
      "execution_count": null,
      "outputs": [
        {
          "output_type": "execute_result",
          "data": {
            "text/plain": [
              "array(['Говядина'], dtype='<U8')"
            ]
          },
          "metadata": {},
          "execution_count": 427
        }
      ]
    },
    {
      "cell_type": "code",
      "source": [
        "sgd.predict(['Куриная разделка Продам кур и куриную разделку гост и халяль по хорошей цене .Тел:'])"
      ],
      "metadata": {
        "colab": {
          "base_uri": "https://localhost:8080/"
        },
        "id": "Szd7NuzLjleF",
        "outputId": "910cb6cb-ecae-4740-ca8a-75d65759ac2c"
      },
      "execution_count": null,
      "outputs": [
        {
          "output_type": "execute_result",
          "data": {
            "text/plain": [
              "array(['Кура'], dtype='<U8')"
            ]
          },
          "metadata": {},
          "execution_count": 428
        }
      ]
    },
    {
      "cell_type": "code",
      "source": [
        "sgd.predict(['Говяжью мукозу Продам говяжью мукозу в охл и замороженном виде. Есть объем.'])"
      ],
      "metadata": {
        "colab": {
          "base_uri": "https://localhost:8080/"
        },
        "id": "cPa474kLjlsd",
        "outputId": "512d7abc-82ce-4a1d-eec2-880d93d4e932"
      },
      "execution_count": null,
      "outputs": [
        {
          "output_type": "execute_result",
          "data": {
            "text/plain": [
              "array(['Говядина'], dtype='<U8')"
            ]
          },
          "metadata": {},
          "execution_count": 429
        }
      ]
    }
  ]
}